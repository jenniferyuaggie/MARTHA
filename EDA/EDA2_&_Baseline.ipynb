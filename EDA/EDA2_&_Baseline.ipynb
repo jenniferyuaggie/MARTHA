{
  "nbformat": 4,
  "nbformat_minor": 0,
  "metadata": {
    "colab": {
      "name": "EDA2 & Baseline.ipynb",
      "version": "0.3.2",
      "provenance": [],
      "collapsed_sections": []
    },
    "kernelspec": {
      "name": "python3",
      "display_name": "Python 3"
    }
  },
  "cells": [
    {
      "metadata": {
        "id": "3eWf-ptlfo67",
        "colab_type": "text"
      },
      "cell_type": "markdown",
      "source": [
        "# Microsoft Malware Challenge\n",
        "\n",
        "## EDA 2 & Baseline model\n",
        "\n",
        "## For CSCE 633 Machine Learning, Spring 2019, Course project\n",
        "### Team: MARTHA\n",
        "### Author: Rose Lin\n",
        "\n",
        "This is the second notebook in the series. We have already performed a quick scan among all the variables in our *EDA1* notebook. Here we would like to check again in closer details and address some of the issues raised in the first notebook.\n",
        "\n",
        "~Ongoing efforts, your feedback is appreciated!~"
      ]
    },
    {
      "metadata": {
        "id": "Z-IV7bOegAYg",
        "colab_type": "text"
      },
      "cell_type": "markdown",
      "source": [
        "### RECAP\n",
        "\n",
        "In EDA 1, we ended up concluding that the following 66 features can be kept for our model:\n",
        "\n",
        "```\n",
        "['ProductName' 'EngineVersion' 'AppVersion' 'AvSigVersion' 'IsBeta'\n",
        " 'RtpStateBitfield' 'AVProductStatesIdentifier' 'AVProductsInstalled'\n",
        " 'AVProductsEnabled' 'HasTpm' 'CountryIdentifier' 'CityIdentifier'\n",
        " 'OrganizationIdentifier' 'GeoNameIdentifier'\n",
        " 'LocaleEnglishNameIdentifier' 'Processor' 'OsVer' 'OsBuild' 'OsSuite'\n",
        " 'OsPlatformSubRelease' 'OsBuildLab' 'IsProtected' 'AutoSampleOptIn'\n",
        " 'SMode' 'IeVerIdentifier' 'SmartScreen' 'Firewall' 'UacLuaenable'\n",
        " 'Census_MDC2FormFactor' 'Census_DeviceFamily' 'Census_OEMNameIdentifier'\n",
        " 'Census_OEMModelIdentifier' 'Census_ProcessorCoreCount'\n",
        " 'Census_ProcessorModelIdentifier' 'Census_PrimaryDiskTotalCapacity'\n",
        " 'Census_PrimaryDiskTypeName' 'Census_SystemVolumeTotalCapacity'\n",
        " 'Census_HasOpticalDiskDrive' 'Census_TotalPhysicalRAM'\n",
        " 'Census_ChassisTypeName'\n",
        " 'Census_InternalPrimaryDiagonalDisplaySizeInInches'\n",
        " 'Census_InternalPrimaryDisplayResolutionHorizontal'\n",
        " 'Census_PowerPlatformRoleName' 'Census_InternalBatteryNumberOfCharges'\n",
        " 'Census_OSVersion' 'Census_OSBranch' 'Census_OSBuildRevision'\n",
        " 'Census_OSEdition' 'Census_OSInstallTypeName'\n",
        " 'Census_OSInstallLanguageIdentifier' 'Census_OSWUAutoUpdateOptionsName'\n",
        " 'Census_IsPortableOperatingSystem' 'Census_GenuineStateName'\n",
        " 'Census_ActivationChannel' 'Census_IsFlightsDisabled' 'Census_FlightRing'\n",
        " 'Census_FirmwareManufacturerIdentifier'\n",
        " 'Census_FirmwareVersionIdentifier' 'Census_IsSecureBootEnabled'\n",
        " 'Census_IsVirtualDevice' 'Census_IsTouchEnabled' 'Census_IsPenCapable'\n",
        " 'Census_IsAlwaysOnAlwaysConnectedCapable' 'Wdft_IsGamer'\n",
        " 'Wdft_RegionIdentifier' 'HasDetections']\n",
        "```\n",
        "\n",
        "But is this correct? \n",
        "\n",
        "We also need to consider the following issues:\n",
        "\n",
        "1. NANs - how to better handle those missing values? (Need a throughout investigation)\n",
        "2. Skewed variables - how to fix their skewness?\n",
        "3. More feature selection/combination - can we NOT drop features but map them into another space?\n",
        "4. Algorithm improvement - the **real** meat and butter.\n",
        "\n",
        "So this notebook would attempt to address the first 3, and build a baseline SVM model to check its performance."
      ]
    },
    {
      "metadata": {
        "id": "9EkAd6qxfhVN",
        "colab_type": "code",
        "colab": {}
      },
      "cell_type": "code",
      "source": [
        "# load the data from Google Drive\n",
        "from google.colab import drive\n",
        "drive.mount('/content/gdrive')"
      ],
      "execution_count": 0,
      "outputs": []
    },
    {
      "metadata": {
        "id": "AhGDN6Va9eGi",
        "colab_type": "code",
        "colab": {}
      },
      "cell_type": "code",
      "source": [
        "# This Python 3 environment comes with many helpful analytics libraries installed\n",
        "# It is defined by the kaggle/python docker image: https://github.com/kaggle/docker-python\n",
        "# For example, here's several helpful packages to load in \n",
        "\n",
        "import numpy as np # linear algebra\n",
        "import pandas as pd # data processing, CSV file I/O (e.g. pd.read_csv)\n",
        "\n",
        "# Input data files are available in the \"../input/\" directory.\n",
        "# For example, running this (by clicking run or pressing Shift+Enter) will list the files in the input directory\n",
        "\n",
        "import os\n",
        "print(os.listdir(r\"/content/gdrive/My Drive/Coding experiment/MARTHA/data\"))\n",
        "\n",
        "# Any results you write to the current directory are saved as output."
      ],
      "execution_count": 0,
      "outputs": []
    },
    {
      "metadata": {
        "id": "0OVZ3qoS9f1U",
        "colab_type": "code",
        "colab": {}
      },
      "cell_type": "code",
      "source": [
        "# from https://www.kaggle.com/theoviel/load-the-totality-of-the-data\n",
        "dtypes = {\n",
        "        'MachineIdentifier':                                    'category',\n",
        "        'ProductName':                                          'category',\n",
        "        'EngineVersion':                                        'category',\n",
        "        'AppVersion':                                           'category',\n",
        "        'AvSigVersion':                                         'category',\n",
        "        'IsBeta':                                               'int8',\n",
        "        'RtpStateBitfield':                                     'float16',\n",
        "        'IsSxsPassiveMode':                                     'int8',\n",
        "        'DefaultBrowsersIdentifier':                            'float16',\n",
        "        'AVProductStatesIdentifier':                            'float32',\n",
        "        'AVProductsInstalled':                                  'float16',\n",
        "        'AVProductsEnabled':                                    'float16',\n",
        "        'HasTpm':                                               'int8',\n",
        "        'CountryIdentifier':                                    'int16',\n",
        "        'CityIdentifier':                                       'float32',\n",
        "        'OrganizationIdentifier':                               'float16',\n",
        "        'GeoNameIdentifier':                                    'float16',\n",
        "        'LocaleEnglishNameIdentifier':                          'int8',\n",
        "        'Platform':                                             'category',\n",
        "        'Processor':                                            'category',\n",
        "        'OsVer':                                                'category',\n",
        "        'OsBuild':                                              'int16',\n",
        "        'OsSuite':                                              'int16',\n",
        "        'OsPlatformSubRelease':                                 'category',\n",
        "        'OsBuildLab':                                           'category',\n",
        "        'SkuEdition':                                           'category',\n",
        "        'IsProtected':                                          'float16',\n",
        "        'AutoSampleOptIn':                                      'int8',\n",
        "        'PuaMode':                                              'category',\n",
        "        'SMode':                                                'float16',\n",
        "        'IeVerIdentifier':                                      'float16',\n",
        "        'SmartScreen':                                          'category',\n",
        "        'Firewall':                                             'float16',\n",
        "        'UacLuaenable':                                         'float32',\n",
        "        'Census_MDC2FormFactor':                                'category',\n",
        "        'Census_DeviceFamily':                                  'category',\n",
        "        'Census_OEMNameIdentifier':                             'float16',\n",
        "        'Census_OEMModelIdentifier':                            'float32',\n",
        "        'Census_ProcessorCoreCount':                            'float16',\n",
        "        'Census_ProcessorManufacturerIdentifier':               'float16',\n",
        "        'Census_ProcessorModelIdentifier':                      'float16',\n",
        "        'Census_ProcessorClass':                                'category',\n",
        "        'Census_PrimaryDiskTotalCapacity':                      'float32',\n",
        "        'Census_PrimaryDiskTypeName':                           'category',\n",
        "        'Census_SystemVolumeTotalCapacity':                     'float32',\n",
        "        'Census_HasOpticalDiskDrive':                           'int8',\n",
        "        'Census_TotalPhysicalRAM':                              'float32',\n",
        "        'Census_ChassisTypeName':                               'category',\n",
        "        'Census_InternalPrimaryDiagonalDisplaySizeInInches':    'float16',\n",
        "        'Census_InternalPrimaryDisplayResolutionHorizontal':    'float16',\n",
        "        'Census_InternalPrimaryDisplayResolutionVertical':      'float16',\n",
        "        'Census_PowerPlatformRoleName':                         'category',\n",
        "        'Census_InternalBatteryType':                           'category',\n",
        "        'Census_InternalBatteryNumberOfCharges':                'float32',\n",
        "        'Census_OSVersion':                                     'category',\n",
        "        'Census_OSArchitecture':                                'category',\n",
        "        'Census_OSBranch':                                      'category',\n",
        "        'Census_OSBuildNumber':                                 'int16',\n",
        "        'Census_OSBuildRevision':                               'int32',\n",
        "        'Census_OSEdition':                                     'category',\n",
        "        'Census_OSSkuName':                                     'category',\n",
        "        'Census_OSInstallTypeName':                             'category',\n",
        "        'Census_OSInstallLanguageIdentifier':                   'float16',\n",
        "        'Census_OSUILocaleIdentifier':                          'int16',\n",
        "        'Census_OSWUAutoUpdateOptionsName':                     'category',\n",
        "        'Census_IsPortableOperatingSystem':                     'int8',\n",
        "        'Census_GenuineStateName':                              'category',\n",
        "        'Census_ActivationChannel':                             'category',\n",
        "        'Census_IsFlightingInternal':                           'float16',\n",
        "        'Census_IsFlightsDisabled':                             'float16',\n",
        "        'Census_FlightRing':                                    'category',\n",
        "        'Census_ThresholdOptIn':                                'float16',\n",
        "        'Census_FirmwareManufacturerIdentifier':                'float16',\n",
        "        'Census_FirmwareVersionIdentifier':                     'float32',\n",
        "        'Census_IsSecureBootEnabled':                           'int8',\n",
        "        'Census_IsWIMBootEnabled':                              'float16',\n",
        "        'Census_IsVirtualDevice':                               'float16',\n",
        "        'Census_IsTouchEnabled':                                'int8',\n",
        "        'Census_IsPenCapable':                                  'int8',\n",
        "        'Census_IsAlwaysOnAlwaysConnectedCapable':              'float16',\n",
        "        'Wdft_IsGamer':                                         'float16',\n",
        "        'Wdft_RegionIdentifier':                                'float16',\n",
        "        'HasDetections':                                        'int8'\n",
        "        }"
      ],
      "execution_count": 0,
      "outputs": []
    },
    {
      "metadata": {
        "id": "Ce-9npXh9h9R",
        "colab_type": "code",
        "colab": {}
      },
      "cell_type": "code",
      "source": [
        "# load the data\n",
        "train = pd.read_csv(\"/content/gdrive/My Drive/Coding experiment/MARTHA/data/train.csv\",dtype = dtypes)\n",
        "ID_col = train['MachineIdentifier']\n",
        "train.drop('MachineIdentifier', axis=1, inplace=True)\n",
        "# take a look at the head\n",
        "train.head()"
      ],
      "execution_count": 0,
      "outputs": []
    },
    {
      "metadata": {
        "id": "9X_R3Lu3Nisa",
        "colab_type": "text"
      },
      "cell_type": "markdown",
      "source": [
        "Note: if using LightGBM we don't have to do feature selection (auto selected, based on decision trees)"
      ]
    }
  ]
}