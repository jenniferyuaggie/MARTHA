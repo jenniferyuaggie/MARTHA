{
  "nbformat": 4,
  "nbformat_minor": 0,
  "metadata": {
    "colab": {
      "name": "Baseline_SVM.ipynb",
      "version": "0.3.2",
      "provenance": [],
      "collapsed_sections": []
    },
    "kernelspec": {
      "name": "python3",
      "display_name": "Python 3"
    },
    "accelerator": "TPU"
  },
  "cells": [
    {
      "metadata": {
        "id": "3eWf-ptlfo67",
        "colab_type": "text"
      },
      "cell_type": "markdown",
      "source": [
        "# Microsoft Malware Challenge\n",
        "\n",
        "## Baseline model: SVM\n",
        "\n",
        "## For CSCE 633 Machine Learning, Spring 2019, Course project\n",
        "### Team: MARTHA\n",
        "### Author: Rose Lin\n",
        "\n",
        "This is the second notebook in the series. We have already performed a quick scan among all the variables in our *EDA1* notebook. Here we would like to build a baseline model (SVM), then check for improvement opportunities.\n",
        "\n",
        "~Ongoing efforts, your feedback is appreciated!~"
      ]
    },
    {
      "metadata": {
        "id": "Z-IV7bOegAYg",
        "colab_type": "text"
      },
      "cell_type": "markdown",
      "source": [
        "### RECAP\n",
        "\n",
        "In EDA 1, we ended up concluding that the following 66 features can be kept for our model:\n",
        "\n",
        "```\n",
        "['ProductName' 'EngineVersion' 'AppVersion' 'AvSigVersion' 'IsBeta'\n",
        " 'RtpStateBitfield' 'AVProductStatesIdentifier' 'AVProductsInstalled'\n",
        " 'AVProductsEnabled' 'HasTpm' 'CountryIdentifier' 'CityIdentifier'\n",
        " 'OrganizationIdentifier' 'GeoNameIdentifier'\n",
        " 'LocaleEnglishNameIdentifier' 'Processor' 'OsVer' 'OsBuild' 'OsSuite'\n",
        " 'OsPlatformSubRelease' 'OsBuildLab' 'IsProtected' 'AutoSampleOptIn'\n",
        " 'SMode' 'IeVerIdentifier' 'SmartScreen' 'Firewall' 'UacLuaenable'\n",
        " 'Census_MDC2FormFactor' 'Census_DeviceFamily' 'Census_OEMNameIdentifier'\n",
        " 'Census_OEMModelIdentifier' 'Census_ProcessorCoreCount'\n",
        " 'Census_ProcessorModelIdentifier' 'Census_PrimaryDiskTotalCapacity'\n",
        " 'Census_PrimaryDiskTypeName' 'Census_SystemVolumeTotalCapacity'\n",
        " 'Census_HasOpticalDiskDrive' 'Census_TotalPhysicalRAM'\n",
        " 'Census_ChassisTypeName'\n",
        " 'Census_InternalPrimaryDiagonalDisplaySizeInInches'\n",
        " 'Census_InternalPrimaryDisplayResolutionHorizontal'\n",
        " 'Census_PowerPlatformRoleName' 'Census_InternalBatteryNumberOfCharges'\n",
        " 'Census_OSVersion' 'Census_OSBranch' 'Census_OSBuildRevision'\n",
        " 'Census_OSEdition' 'Census_OSInstallTypeName'\n",
        " 'Census_OSInstallLanguageIdentifier' 'Census_OSWUAutoUpdateOptionsName'\n",
        " 'Census_IsPortableOperatingSystem' 'Census_GenuineStateName'\n",
        " 'Census_ActivationChannel' 'Census_IsFlightsDisabled' 'Census_FlightRing'\n",
        " 'Census_FirmwareManufacturerIdentifier'\n",
        " 'Census_FirmwareVersionIdentifier' 'Census_IsSecureBootEnabled'\n",
        " 'Census_IsVirtualDevice' 'Census_IsTouchEnabled' 'Census_IsPenCapable'\n",
        " 'Census_IsAlwaysOnAlwaysConnectedCapable' 'Wdft_IsGamer'\n",
        " 'Wdft_RegionIdentifier' 'HasDetections']\n",
        "```\n",
        "\n",
        "But is this correct? Can we keep more data?\n",
        "\n",
        "This notebook would attempt to build a baseline SVM model to check its performance."
      ]
    },
    {
      "metadata": {
        "id": "9EkAd6qxfhVN",
        "colab_type": "code",
        "outputId": "2662589e-7e38-4e16-ac54-09cefa9e2c52",
        "colab": {
          "base_uri": "https://localhost:8080/",
          "height": 34
        }
      },
      "cell_type": "code",
      "source": [
        "# load the data from Google Drive\n",
        "from google.colab import drive\n",
        "drive.mount('/content/gdrive')"
      ],
      "execution_count": 2,
      "outputs": [
        {
          "output_type": "stream",
          "text": [
            "Drive already mounted at /content/gdrive; to attempt to forcibly remount, call drive.mount(\"/content/gdrive\", force_remount=True).\n"
          ],
          "name": "stdout"
        }
      ]
    },
    {
      "metadata": {
        "id": "AhGDN6Va9eGi",
        "colab_type": "code",
        "colab": {}
      },
      "cell_type": "code",
      "source": [
        "import pandas as pd\n",
        "import numpy as np\n",
        "import lightgbm as lgb\n",
        "import xgboost as xgb\n",
        "from scipy.sparse import vstack, csr_matrix, save_npz, load_npz\n",
        "from sklearn.preprocessing import LabelEncoder, OneHotEncoder\n",
        "from sklearn.model_selection import StratifiedKFold\n",
        "from sklearn.metrics import roc_auc_score\n",
        "import gc\n",
        "gc.enable()"
      ],
      "execution_count": 0,
      "outputs": []
    },
    {
      "metadata": {
        "id": "bIM5nFSWtAix",
        "colab_type": "code",
        "colab": {}
      },
      "cell_type": "code",
      "source": [
        "pd.set_option('display.max_columns', 100)"
      ],
      "execution_count": 0,
      "outputs": []
    },
    {
      "metadata": {
        "id": "0OVZ3qoS9f1U",
        "colab_type": "code",
        "colab": {}
      },
      "cell_type": "code",
      "source": [
        "# from https://www.kaggle.com/theoviel/load-the-totality-of-the-data\n",
        "dtypes = {\n",
        "        'MachineIdentifier':                                    'category',\n",
        "        'ProductName':                                          'category',\n",
        "        'EngineVersion':                                        'category',\n",
        "        'AppVersion':                                           'category',\n",
        "        'AvSigVersion':                                         'category',\n",
        "        'IsBeta':                                               'int8',\n",
        "        'RtpStateBitfield':                                     'float16',\n",
        "        'IsSxsPassiveMode':                                     'int8',\n",
        "        'DefaultBrowsersIdentifier':                            'float32',\n",
        "        'AVProductStatesIdentifier':                            'float32',\n",
        "        'AVProductsInstalled':                                  'float16',\n",
        "        'AVProductsEnabled':                                    'float16',\n",
        "        'HasTpm':                                               'int8',\n",
        "        'CountryIdentifier':                                    'int16',\n",
        "        'CityIdentifier':                                       'float32',\n",
        "        'OrganizationIdentifier':                               'float16',\n",
        "        'GeoNameIdentifier':                                    'float16',\n",
        "        'LocaleEnglishNameIdentifier':                          'int16',\n",
        "        'Platform':                                             'category',\n",
        "        'Processor':                                            'category',\n",
        "        'OsVer':                                                'category',\n",
        "        'OsBuild':                                              'int16',\n",
        "        'OsSuite':                                              'int16',\n",
        "        'OsPlatformSubRelease':                                 'category',\n",
        "        'OsBuildLab':                                           'category',\n",
        "        'SkuEdition':                                           'category',\n",
        "        'IsProtected':                                          'float16',\n",
        "        'AutoSampleOptIn':                                      'int8',\n",
        "        'PuaMode':                                              'category',\n",
        "        'SMode':                                                'float16',\n",
        "        'IeVerIdentifier':                                      'float16',\n",
        "        'SmartScreen':                                          'category',\n",
        "        'Firewall':                                             'float16',\n",
        "        'UacLuaenable':                                         'float64', # was 'float32'\n",
        "        'Census_MDC2FormFactor':                                'category',\n",
        "        'Census_DeviceFamily':                                  'category',\n",
        "        'Census_OEMNameIdentifier':                             'float32', # was 'float16'\n",
        "        'Census_OEMModelIdentifier':                            'float32',\n",
        "        'Census_ProcessorCoreCount':                            'float16',\n",
        "        'Census_ProcessorManufacturerIdentifier':               'float16',\n",
        "        'Census_ProcessorModelIdentifier':                      'float32', # was 'float16'\n",
        "        'Census_ProcessorClass':                                'category',\n",
        "        'Census_PrimaryDiskTotalCapacity':                      'float64', # was 'float32'\n",
        "        'Census_PrimaryDiskTypeName':                           'category',\n",
        "        'Census_SystemVolumeTotalCapacity':                     'float64', # was 'float32'\n",
        "        'Census_HasOpticalDiskDrive':                           'int8',\n",
        "        'Census_TotalPhysicalRAM':                              'float32',\n",
        "        'Census_ChassisTypeName':                               'category',\n",
        "        'Census_InternalPrimaryDiagonalDisplaySizeInInches':    'float32', # was 'float16'\n",
        "        'Census_InternalPrimaryDisplayResolutionHorizontal':    'float32', # was 'float16'\n",
        "        'Census_InternalPrimaryDisplayResolutionVertical':      'float32', # was 'float16'\n",
        "        'Census_PowerPlatformRoleName':                         'category',\n",
        "        'Census_InternalBatteryType':                           'category',\n",
        "        'Census_InternalBatteryNumberOfCharges':                'float64', # was 'float32'\n",
        "        'Census_OSVersion':                                     'category',\n",
        "        'Census_OSArchitecture':                                'category',\n",
        "        'Census_OSBranch':                                      'category',\n",
        "        'Census_OSBuildNumber':                                 'int16',\n",
        "        'Census_OSBuildRevision':                               'int32',\n",
        "        'Census_OSEdition':                                     'category',\n",
        "        'Census_OSSkuName':                                     'category',\n",
        "        'Census_OSInstallTypeName':                             'category',\n",
        "        'Census_OSInstallLanguageIdentifier':                   'float16',\n",
        "        'Census_OSUILocaleIdentifier':                          'int16',\n",
        "        'Census_OSWUAutoUpdateOptionsName':                     'category',\n",
        "        'Census_IsPortableOperatingSystem':                     'int8',\n",
        "        'Census_GenuineStateName':                              'category',\n",
        "        'Census_ActivationChannel':                             'category',\n",
        "        'Census_IsFlightingInternal':                           'float16',\n",
        "        'Census_IsFlightsDisabled':                             'float16',\n",
        "        'Census_FlightRing':                                    'category',\n",
        "        'Census_ThresholdOptIn':                                'float16',\n",
        "        'Census_FirmwareManufacturerIdentifier':                'float16',\n",
        "        'Census_FirmwareVersionIdentifier':                     'float32',\n",
        "        'Census_IsSecureBootEnabled':                           'int8',\n",
        "        'Census_IsWIMBootEnabled':                              'float16',\n",
        "        'Census_IsVirtualDevice':                               'float16',\n",
        "        'Census_IsTouchEnabled':                                'int8',\n",
        "        'Census_IsPenCapable':                                  'int8',\n",
        "        'Census_IsAlwaysOnAlwaysConnectedCapable':              'float16',\n",
        "        'Wdft_IsGamer':                                         'float16',\n",
        "        'Wdft_RegionIdentifier':                                'float16',\n",
        "        'HasDetections':                                        'int8'\n",
        "        }"
      ],
      "execution_count": 0,
      "outputs": []
    },
    {
      "metadata": {
        "id": "lBdI5DLOCgAw",
        "colab_type": "code",
        "outputId": "c1f33c15-caff-49e2-ec23-394c912df4ba",
        "colab": {
          "base_uri": "https://localhost:8080/",
          "height": 34
        }
      },
      "cell_type": "code",
      "source": [
        "train = pd.read_csv('/content/gdrive/My Drive/Coding experiment/MARTHA/data/train.csv', dtype=dtypes, low_memory=True)\n",
        "train['MachineIdentifier'] = train.index.astype('uint32')\n",
        "test  = pd.read_csv('/content/gdrive/My Drive/Coding experiment/MARTHA/data/test.csv',  dtype=dtypes, low_memory=True)\n",
        "test['MachineIdentifier']  = test.index.astype('uint32')\n",
        "gc.collect()"
      ],
      "execution_count": 6,
      "outputs": [
        {
          "output_type": "execute_result",
          "data": {
            "text/plain": [
              "201012"
            ]
          },
          "metadata": {
            "tags": []
          },
          "execution_count": 6
        }
      ]
    },
    {
      "metadata": {
        "id": "xu0I9gsbnlWU",
        "colab_type": "code",
        "outputId": "fe310bad-e29b-4121-bb6d-8de606b291b0",
        "colab": {
          "base_uri": "https://localhost:8080/",
          "height": 1513
        }
      },
      "cell_type": "code",
      "source": [
        "train.info()"
      ],
      "execution_count": 0,
      "outputs": [
        {
          "output_type": "stream",
          "text": [
            "<class 'pandas.core.frame.DataFrame'>\n",
            "RangeIndex: 8921483 entries, 0 to 8921482\n",
            "Data columns (total 83 columns):\n",
            "MachineIdentifier                                    uint64\n",
            "ProductName                                          category\n",
            "EngineVersion                                        category\n",
            "AppVersion                                           category\n",
            "AvSigVersion                                         category\n",
            "IsBeta                                               int8\n",
            "RtpStateBitfield                                     float16\n",
            "IsSxsPassiveMode                                     int8\n",
            "DefaultBrowsersIdentifier                            float32\n",
            "AVProductStatesIdentifier                            float32\n",
            "AVProductsInstalled                                  float16\n",
            "AVProductsEnabled                                    float16\n",
            "HasTpm                                               int8\n",
            "CountryIdentifier                                    int16\n",
            "CityIdentifier                                       float32\n",
            "OrganizationIdentifier                               float16\n",
            "GeoNameIdentifier                                    float16\n",
            "LocaleEnglishNameIdentifier                          int16\n",
            "Platform                                             category\n",
            "Processor                                            category\n",
            "OsVer                                                category\n",
            "OsBuild                                              int16\n",
            "OsSuite                                              int16\n",
            "OsPlatformSubRelease                                 category\n",
            "OsBuildLab                                           category\n",
            "SkuEdition                                           category\n",
            "IsProtected                                          float16\n",
            "AutoSampleOptIn                                      int8\n",
            "PuaMode                                              category\n",
            "SMode                                                float16\n",
            "IeVerIdentifier                                      float16\n",
            "SmartScreen                                          category\n",
            "Firewall                                             float16\n",
            "UacLuaenable                                         float64\n",
            "Census_MDC2FormFactor                                category\n",
            "Census_DeviceFamily                                  category\n",
            "Census_OEMNameIdentifier                             float32\n",
            "Census_OEMModelIdentifier                            float32\n",
            "Census_ProcessorCoreCount                            float16\n",
            "Census_ProcessorManufacturerIdentifier               float16\n",
            "Census_ProcessorModelIdentifier                      float32\n",
            "Census_ProcessorClass                                category\n",
            "Census_PrimaryDiskTotalCapacity                      float64\n",
            "Census_PrimaryDiskTypeName                           category\n",
            "Census_SystemVolumeTotalCapacity                     float64\n",
            "Census_HasOpticalDiskDrive                           int8\n",
            "Census_TotalPhysicalRAM                              float32\n",
            "Census_ChassisTypeName                               category\n",
            "Census_InternalPrimaryDiagonalDisplaySizeInInches    float32\n",
            "Census_InternalPrimaryDisplayResolutionHorizontal    float32\n",
            "Census_InternalPrimaryDisplayResolutionVertical      float32\n",
            "Census_PowerPlatformRoleName                         category\n",
            "Census_InternalBatteryType                           category\n",
            "Census_InternalBatteryNumberOfCharges                float64\n",
            "Census_OSVersion                                     category\n",
            "Census_OSArchitecture                                category\n",
            "Census_OSBranch                                      category\n",
            "Census_OSBuildNumber                                 int16\n",
            "Census_OSBuildRevision                               int32\n",
            "Census_OSEdition                                     category\n",
            "Census_OSSkuName                                     category\n",
            "Census_OSInstallTypeName                             category\n",
            "Census_OSInstallLanguageIdentifier                   float16\n",
            "Census_OSUILocaleIdentifier                          int16\n",
            "Census_OSWUAutoUpdateOptionsName                     category\n",
            "Census_IsPortableOperatingSystem                     int8\n",
            "Census_GenuineStateName                              category\n",
            "Census_ActivationChannel                             category\n",
            "Census_IsFlightingInternal                           float16\n",
            "Census_IsFlightsDisabled                             float16\n",
            "Census_FlightRing                                    category\n",
            "Census_ThresholdOptIn                                float16\n",
            "Census_FirmwareManufacturerIdentifier                float16\n",
            "Census_FirmwareVersionIdentifier                     float32\n",
            "Census_IsSecureBootEnabled                           int8\n",
            "Census_IsWIMBootEnabled                              float16\n",
            "Census_IsVirtualDevice                               float16\n",
            "Census_IsTouchEnabled                                int8\n",
            "Census_IsPenCapable                                  int8\n",
            "Census_IsAlwaysOnAlwaysConnectedCapable              float16\n",
            "Wdft_IsGamer                                         float16\n",
            "Wdft_RegionIdentifier                                float16\n",
            "HasDetections                                        int8\n",
            "dtypes: category(29), float16(21), float32(11), float64(4), int16(6), int32(1), int8(10), uint64(1)\n",
            "memory usage: 1.5 GB\n"
          ],
          "name": "stdout"
        }
      ]
    },
    {
      "metadata": {
        "id": "vFwssgROp9M0",
        "colab_type": "code",
        "outputId": "df01fb2e-3bd5-4567-da25-746187e5f799",
        "colab": {
          "base_uri": "https://localhost:8080/",
          "height": 1496
        }
      },
      "cell_type": "code",
      "source": [
        "test.info()"
      ],
      "execution_count": 0,
      "outputs": [
        {
          "output_type": "stream",
          "text": [
            "<class 'pandas.core.frame.DataFrame'>\n",
            "RangeIndex: 7853253 entries, 0 to 7853252\n",
            "Data columns (total 82 columns):\n",
            "MachineIdentifier                                    uint64\n",
            "ProductName                                          category\n",
            "EngineVersion                                        category\n",
            "AppVersion                                           category\n",
            "AvSigVersion                                         category\n",
            "IsBeta                                               int8\n",
            "RtpStateBitfield                                     float16\n",
            "IsSxsPassiveMode                                     int8\n",
            "DefaultBrowsersIdentifier                            float32\n",
            "AVProductStatesIdentifier                            float32\n",
            "AVProductsInstalled                                  float16\n",
            "AVProductsEnabled                                    float16\n",
            "HasTpm                                               int8\n",
            "CountryIdentifier                                    int16\n",
            "CityIdentifier                                       float32\n",
            "OrganizationIdentifier                               float16\n",
            "GeoNameIdentifier                                    float16\n",
            "LocaleEnglishNameIdentifier                          int16\n",
            "Platform                                             category\n",
            "Processor                                            category\n",
            "OsVer                                                category\n",
            "OsBuild                                              int16\n",
            "OsSuite                                              int16\n",
            "OsPlatformSubRelease                                 category\n",
            "OsBuildLab                                           category\n",
            "SkuEdition                                           category\n",
            "IsProtected                                          float16\n",
            "AutoSampleOptIn                                      int8\n",
            "PuaMode                                              category\n",
            "SMode                                                float16\n",
            "IeVerIdentifier                                      float16\n",
            "SmartScreen                                          category\n",
            "Firewall                                             float16\n",
            "UacLuaenable                                         float64\n",
            "Census_MDC2FormFactor                                category\n",
            "Census_DeviceFamily                                  category\n",
            "Census_OEMNameIdentifier                             float32\n",
            "Census_OEMModelIdentifier                            float32\n",
            "Census_ProcessorCoreCount                            float16\n",
            "Census_ProcessorManufacturerIdentifier               float16\n",
            "Census_ProcessorModelIdentifier                      float32\n",
            "Census_ProcessorClass                                category\n",
            "Census_PrimaryDiskTotalCapacity                      float64\n",
            "Census_PrimaryDiskTypeName                           category\n",
            "Census_SystemVolumeTotalCapacity                     float64\n",
            "Census_HasOpticalDiskDrive                           int8\n",
            "Census_TotalPhysicalRAM                              float32\n",
            "Census_ChassisTypeName                               category\n",
            "Census_InternalPrimaryDiagonalDisplaySizeInInches    float32\n",
            "Census_InternalPrimaryDisplayResolutionHorizontal    float32\n",
            "Census_InternalPrimaryDisplayResolutionVertical      float32\n",
            "Census_PowerPlatformRoleName                         category\n",
            "Census_InternalBatteryType                           category\n",
            "Census_InternalBatteryNumberOfCharges                float64\n",
            "Census_OSVersion                                     category\n",
            "Census_OSArchitecture                                category\n",
            "Census_OSBranch                                      category\n",
            "Census_OSBuildNumber                                 int16\n",
            "Census_OSBuildRevision                               int32\n",
            "Census_OSEdition                                     category\n",
            "Census_OSSkuName                                     category\n",
            "Census_OSInstallTypeName                             category\n",
            "Census_OSInstallLanguageIdentifier                   float16\n",
            "Census_OSUILocaleIdentifier                          int16\n",
            "Census_OSWUAutoUpdateOptionsName                     category\n",
            "Census_IsPortableOperatingSystem                     int8\n",
            "Census_GenuineStateName                              category\n",
            "Census_ActivationChannel                             category\n",
            "Census_IsFlightingInternal                           float16\n",
            "Census_IsFlightsDisabled                             float16\n",
            "Census_FlightRing                                    category\n",
            "Census_ThresholdOptIn                                float16\n",
            "Census_FirmwareManufacturerIdentifier                float16\n",
            "Census_FirmwareVersionIdentifier                     float32\n",
            "Census_IsSecureBootEnabled                           int8\n",
            "Census_IsWIMBootEnabled                              float16\n",
            "Census_IsVirtualDevice                               float16\n",
            "Census_IsTouchEnabled                                int8\n",
            "Census_IsPenCapable                                  int8\n",
            "Census_IsAlwaysOnAlwaysConnectedCapable              float16\n",
            "Wdft_IsGamer                                         float16\n",
            "Wdft_RegionIdentifier                                float16\n",
            "dtypes: category(29), float16(21), float32(11), float64(4), int16(6), int32(1), int8(9), uint64(1)\n",
            "memory usage: 1.3 GB\n"
          ],
          "name": "stdout"
        }
      ]
    },
    {
      "metadata": {
        "id": "Ce-9npXh9h9R",
        "colab_type": "code",
        "outputId": "2ac254be-c3b3-49c0-b09b-7dce80338e25",
        "colab": {
          "base_uri": "https://localhost:8080/",
          "height": 309
        }
      },
      "cell_type": "code",
      "source": [
        "# take a look at the head\n",
        "train.head()"
      ],
      "execution_count": 0,
      "outputs": [
        {
          "output_type": "execute_result",
          "data": {
            "text/html": [
              "<div>\n",
              "<style scoped>\n",
              "    .dataframe tbody tr th:only-of-type {\n",
              "        vertical-align: middle;\n",
              "    }\n",
              "\n",
              "    .dataframe tbody tr th {\n",
              "        vertical-align: top;\n",
              "    }\n",
              "\n",
              "    .dataframe thead th {\n",
              "        text-align: right;\n",
              "    }\n",
              "</style>\n",
              "<table border=\"1\" class=\"dataframe\">\n",
              "  <thead>\n",
              "    <tr style=\"text-align: right;\">\n",
              "      <th></th>\n",
              "      <th>MachineIdentifier</th>\n",
              "      <th>ProductName</th>\n",
              "      <th>EngineVersion</th>\n",
              "      <th>AppVersion</th>\n",
              "      <th>AvSigVersion</th>\n",
              "      <th>IsBeta</th>\n",
              "      <th>RtpStateBitfield</th>\n",
              "      <th>IsSxsPassiveMode</th>\n",
              "      <th>DefaultBrowsersIdentifier</th>\n",
              "      <th>AVProductStatesIdentifier</th>\n",
              "      <th>AVProductsInstalled</th>\n",
              "      <th>AVProductsEnabled</th>\n",
              "      <th>HasTpm</th>\n",
              "      <th>CountryIdentifier</th>\n",
              "      <th>CityIdentifier</th>\n",
              "      <th>OrganizationIdentifier</th>\n",
              "      <th>GeoNameIdentifier</th>\n",
              "      <th>LocaleEnglishNameIdentifier</th>\n",
              "      <th>Platform</th>\n",
              "      <th>Processor</th>\n",
              "      <th>OsVer</th>\n",
              "      <th>OsBuild</th>\n",
              "      <th>OsSuite</th>\n",
              "      <th>OsPlatformSubRelease</th>\n",
              "      <th>OsBuildLab</th>\n",
              "      <th>SkuEdition</th>\n",
              "      <th>IsProtected</th>\n",
              "      <th>AutoSampleOptIn</th>\n",
              "      <th>PuaMode</th>\n",
              "      <th>SMode</th>\n",
              "      <th>IeVerIdentifier</th>\n",
              "      <th>SmartScreen</th>\n",
              "      <th>Firewall</th>\n",
              "      <th>UacLuaenable</th>\n",
              "      <th>Census_MDC2FormFactor</th>\n",
              "      <th>Census_DeviceFamily</th>\n",
              "      <th>Census_OEMNameIdentifier</th>\n",
              "      <th>Census_OEMModelIdentifier</th>\n",
              "      <th>Census_ProcessorCoreCount</th>\n",
              "      <th>Census_ProcessorManufacturerIdentifier</th>\n",
              "      <th>Census_ProcessorModelIdentifier</th>\n",
              "      <th>Census_ProcessorClass</th>\n",
              "      <th>Census_PrimaryDiskTotalCapacity</th>\n",
              "      <th>Census_PrimaryDiskTypeName</th>\n",
              "      <th>Census_SystemVolumeTotalCapacity</th>\n",
              "      <th>Census_HasOpticalDiskDrive</th>\n",
              "      <th>Census_TotalPhysicalRAM</th>\n",
              "      <th>Census_ChassisTypeName</th>\n",
              "      <th>Census_InternalPrimaryDiagonalDisplaySizeInInches</th>\n",
              "      <th>Census_InternalPrimaryDisplayResolutionHorizontal</th>\n",
              "      <th>Census_InternalPrimaryDisplayResolutionVertical</th>\n",
              "      <th>Census_PowerPlatformRoleName</th>\n",
              "      <th>Census_InternalBatteryType</th>\n",
              "      <th>Census_InternalBatteryNumberOfCharges</th>\n",
              "      <th>Census_OSVersion</th>\n",
              "      <th>Census_OSArchitecture</th>\n",
              "      <th>Census_OSBranch</th>\n",
              "      <th>Census_OSBuildNumber</th>\n",
              "      <th>Census_OSBuildRevision</th>\n",
              "      <th>Census_OSEdition</th>\n",
              "      <th>Census_OSSkuName</th>\n",
              "      <th>Census_OSInstallTypeName</th>\n",
              "      <th>Census_OSInstallLanguageIdentifier</th>\n",
              "      <th>Census_OSUILocaleIdentifier</th>\n",
              "      <th>Census_OSWUAutoUpdateOptionsName</th>\n",
              "      <th>Census_IsPortableOperatingSystem</th>\n",
              "      <th>Census_GenuineStateName</th>\n",
              "      <th>Census_ActivationChannel</th>\n",
              "      <th>Census_IsFlightingInternal</th>\n",
              "      <th>Census_IsFlightsDisabled</th>\n",
              "      <th>Census_FlightRing</th>\n",
              "      <th>Census_ThresholdOptIn</th>\n",
              "      <th>Census_FirmwareManufacturerIdentifier</th>\n",
              "      <th>Census_FirmwareVersionIdentifier</th>\n",
              "      <th>Census_IsSecureBootEnabled</th>\n",
              "      <th>Census_IsWIMBootEnabled</th>\n",
              "      <th>Census_IsVirtualDevice</th>\n",
              "      <th>Census_IsTouchEnabled</th>\n",
              "      <th>Census_IsPenCapable</th>\n",
              "      <th>Census_IsAlwaysOnAlwaysConnectedCapable</th>\n",
              "      <th>Wdft_IsGamer</th>\n",
              "      <th>Wdft_RegionIdentifier</th>\n",
              "      <th>HasDetections</th>\n",
              "    </tr>\n",
              "  </thead>\n",
              "  <tbody>\n",
              "    <tr>\n",
              "      <th>0</th>\n",
              "      <td>0</td>\n",
              "      <td>win8defender</td>\n",
              "      <td>1.1.15100.1</td>\n",
              "      <td>4.18.1807.18075</td>\n",
              "      <td>1.273.1735.0</td>\n",
              "      <td>0</td>\n",
              "      <td>7.0</td>\n",
              "      <td>0</td>\n",
              "      <td>NaN</td>\n",
              "      <td>53447.0</td>\n",
              "      <td>1.0</td>\n",
              "      <td>1.0</td>\n",
              "      <td>1</td>\n",
              "      <td>29</td>\n",
              "      <td>128035.0</td>\n",
              "      <td>18.0</td>\n",
              "      <td>35.0</td>\n",
              "      <td>171</td>\n",
              "      <td>windows10</td>\n",
              "      <td>x64</td>\n",
              "      <td>10.0.0.0</td>\n",
              "      <td>17134</td>\n",
              "      <td>256</td>\n",
              "      <td>rs4</td>\n",
              "      <td>17134.1.amd64fre.rs4_release.180410-1804</td>\n",
              "      <td>Pro</td>\n",
              "      <td>1.0</td>\n",
              "      <td>0</td>\n",
              "      <td>NaN</td>\n",
              "      <td>0.0</td>\n",
              "      <td>137.0</td>\n",
              "      <td>NaN</td>\n",
              "      <td>1.0</td>\n",
              "      <td>1.0</td>\n",
              "      <td>Desktop</td>\n",
              "      <td>Windows.Desktop</td>\n",
              "      <td>2668.0</td>\n",
              "      <td>9124.0</td>\n",
              "      <td>4.0</td>\n",
              "      <td>5.0</td>\n",
              "      <td>2341.0</td>\n",
              "      <td>NaN</td>\n",
              "      <td>476940.0</td>\n",
              "      <td>HDD</td>\n",
              "      <td>299451.0</td>\n",
              "      <td>0</td>\n",
              "      <td>4096.0</td>\n",
              "      <td>Desktop</td>\n",
              "      <td>18.9</td>\n",
              "      <td>1440.0</td>\n",
              "      <td>900.0</td>\n",
              "      <td>Desktop</td>\n",
              "      <td>NaN</td>\n",
              "      <td>4.294967e+09</td>\n",
              "      <td>10.0.17134.165</td>\n",
              "      <td>amd64</td>\n",
              "      <td>rs4_release</td>\n",
              "      <td>17134</td>\n",
              "      <td>165</td>\n",
              "      <td>Professional</td>\n",
              "      <td>PROFESSIONAL</td>\n",
              "      <td>UUPUpgrade</td>\n",
              "      <td>26.0</td>\n",
              "      <td>119</td>\n",
              "      <td>UNKNOWN</td>\n",
              "      <td>0</td>\n",
              "      <td>IS_GENUINE</td>\n",
              "      <td>Retail</td>\n",
              "      <td>NaN</td>\n",
              "      <td>0.0</td>\n",
              "      <td>Retail</td>\n",
              "      <td>NaN</td>\n",
              "      <td>628.0</td>\n",
              "      <td>36144.0</td>\n",
              "      <td>0</td>\n",
              "      <td>NaN</td>\n",
              "      <td>0.0</td>\n",
              "      <td>0</td>\n",
              "      <td>0</td>\n",
              "      <td>0.0</td>\n",
              "      <td>0.0</td>\n",
              "      <td>10.0</td>\n",
              "      <td>0</td>\n",
              "    </tr>\n",
              "    <tr>\n",
              "      <th>1</th>\n",
              "      <td>1</td>\n",
              "      <td>win8defender</td>\n",
              "      <td>1.1.14600.4</td>\n",
              "      <td>4.13.17134.1</td>\n",
              "      <td>1.263.48.0</td>\n",
              "      <td>0</td>\n",
              "      <td>7.0</td>\n",
              "      <td>0</td>\n",
              "      <td>NaN</td>\n",
              "      <td>53447.0</td>\n",
              "      <td>1.0</td>\n",
              "      <td>1.0</td>\n",
              "      <td>1</td>\n",
              "      <td>93</td>\n",
              "      <td>1482.0</td>\n",
              "      <td>18.0</td>\n",
              "      <td>119.0</td>\n",
              "      <td>64</td>\n",
              "      <td>windows10</td>\n",
              "      <td>x64</td>\n",
              "      <td>10.0.0.0</td>\n",
              "      <td>17134</td>\n",
              "      <td>256</td>\n",
              "      <td>rs4</td>\n",
              "      <td>17134.1.amd64fre.rs4_release.180410-1804</td>\n",
              "      <td>Pro</td>\n",
              "      <td>1.0</td>\n",
              "      <td>0</td>\n",
              "      <td>NaN</td>\n",
              "      <td>0.0</td>\n",
              "      <td>137.0</td>\n",
              "      <td>NaN</td>\n",
              "      <td>1.0</td>\n",
              "      <td>1.0</td>\n",
              "      <td>Notebook</td>\n",
              "      <td>Windows.Desktop</td>\n",
              "      <td>2668.0</td>\n",
              "      <td>91656.0</td>\n",
              "      <td>4.0</td>\n",
              "      <td>5.0</td>\n",
              "      <td>2405.0</td>\n",
              "      <td>NaN</td>\n",
              "      <td>476940.0</td>\n",
              "      <td>HDD</td>\n",
              "      <td>102385.0</td>\n",
              "      <td>0</td>\n",
              "      <td>4096.0</td>\n",
              "      <td>Notebook</td>\n",
              "      <td>13.9</td>\n",
              "      <td>1366.0</td>\n",
              "      <td>768.0</td>\n",
              "      <td>Mobile</td>\n",
              "      <td>NaN</td>\n",
              "      <td>1.000000e+00</td>\n",
              "      <td>10.0.17134.1</td>\n",
              "      <td>amd64</td>\n",
              "      <td>rs4_release</td>\n",
              "      <td>17134</td>\n",
              "      <td>1</td>\n",
              "      <td>Professional</td>\n",
              "      <td>PROFESSIONAL</td>\n",
              "      <td>IBSClean</td>\n",
              "      <td>8.0</td>\n",
              "      <td>31</td>\n",
              "      <td>UNKNOWN</td>\n",
              "      <td>0</td>\n",
              "      <td>OFFLINE</td>\n",
              "      <td>Retail</td>\n",
              "      <td>NaN</td>\n",
              "      <td>0.0</td>\n",
              "      <td>NOT_SET</td>\n",
              "      <td>NaN</td>\n",
              "      <td>628.0</td>\n",
              "      <td>57858.0</td>\n",
              "      <td>0</td>\n",
              "      <td>NaN</td>\n",
              "      <td>0.0</td>\n",
              "      <td>0</td>\n",
              "      <td>0</td>\n",
              "      <td>0.0</td>\n",
              "      <td>0.0</td>\n",
              "      <td>8.0</td>\n",
              "      <td>0</td>\n",
              "    </tr>\n",
              "    <tr>\n",
              "      <th>2</th>\n",
              "      <td>2</td>\n",
              "      <td>win8defender</td>\n",
              "      <td>1.1.15100.1</td>\n",
              "      <td>4.18.1807.18075</td>\n",
              "      <td>1.273.1341.0</td>\n",
              "      <td>0</td>\n",
              "      <td>7.0</td>\n",
              "      <td>0</td>\n",
              "      <td>NaN</td>\n",
              "      <td>53447.0</td>\n",
              "      <td>1.0</td>\n",
              "      <td>1.0</td>\n",
              "      <td>1</td>\n",
              "      <td>86</td>\n",
              "      <td>153579.0</td>\n",
              "      <td>18.0</td>\n",
              "      <td>64.0</td>\n",
              "      <td>49</td>\n",
              "      <td>windows10</td>\n",
              "      <td>x64</td>\n",
              "      <td>10.0.0.0</td>\n",
              "      <td>17134</td>\n",
              "      <td>768</td>\n",
              "      <td>rs4</td>\n",
              "      <td>17134.1.amd64fre.rs4_release.180410-1804</td>\n",
              "      <td>Home</td>\n",
              "      <td>1.0</td>\n",
              "      <td>0</td>\n",
              "      <td>NaN</td>\n",
              "      <td>0.0</td>\n",
              "      <td>137.0</td>\n",
              "      <td>RequireAdmin</td>\n",
              "      <td>1.0</td>\n",
              "      <td>1.0</td>\n",
              "      <td>Desktop</td>\n",
              "      <td>Windows.Desktop</td>\n",
              "      <td>4909.0</td>\n",
              "      <td>317701.0</td>\n",
              "      <td>4.0</td>\n",
              "      <td>5.0</td>\n",
              "      <td>1972.0</td>\n",
              "      <td>NaN</td>\n",
              "      <td>114473.0</td>\n",
              "      <td>SSD</td>\n",
              "      <td>113907.0</td>\n",
              "      <td>0</td>\n",
              "      <td>4096.0</td>\n",
              "      <td>Desktop</td>\n",
              "      <td>21.5</td>\n",
              "      <td>1920.0</td>\n",
              "      <td>1080.0</td>\n",
              "      <td>Desktop</td>\n",
              "      <td>NaN</td>\n",
              "      <td>4.294967e+09</td>\n",
              "      <td>10.0.17134.165</td>\n",
              "      <td>amd64</td>\n",
              "      <td>rs4_release</td>\n",
              "      <td>17134</td>\n",
              "      <td>165</td>\n",
              "      <td>Core</td>\n",
              "      <td>CORE</td>\n",
              "      <td>UUPUpgrade</td>\n",
              "      <td>7.0</td>\n",
              "      <td>30</td>\n",
              "      <td>FullAuto</td>\n",
              "      <td>0</td>\n",
              "      <td>IS_GENUINE</td>\n",
              "      <td>OEM:NONSLP</td>\n",
              "      <td>NaN</td>\n",
              "      <td>0.0</td>\n",
              "      <td>Retail</td>\n",
              "      <td>NaN</td>\n",
              "      <td>142.0</td>\n",
              "      <td>52682.0</td>\n",
              "      <td>0</td>\n",
              "      <td>NaN</td>\n",
              "      <td>0.0</td>\n",
              "      <td>0</td>\n",
              "      <td>0</td>\n",
              "      <td>0.0</td>\n",
              "      <td>0.0</td>\n",
              "      <td>3.0</td>\n",
              "      <td>0</td>\n",
              "    </tr>\n",
              "    <tr>\n",
              "      <th>3</th>\n",
              "      <td>3</td>\n",
              "      <td>win8defender</td>\n",
              "      <td>1.1.15100.1</td>\n",
              "      <td>4.18.1807.18075</td>\n",
              "      <td>1.273.1527.0</td>\n",
              "      <td>0</td>\n",
              "      <td>7.0</td>\n",
              "      <td>0</td>\n",
              "      <td>NaN</td>\n",
              "      <td>53447.0</td>\n",
              "      <td>1.0</td>\n",
              "      <td>1.0</td>\n",
              "      <td>1</td>\n",
              "      <td>88</td>\n",
              "      <td>20710.0</td>\n",
              "      <td>NaN</td>\n",
              "      <td>117.0</td>\n",
              "      <td>115</td>\n",
              "      <td>windows10</td>\n",
              "      <td>x64</td>\n",
              "      <td>10.0.0.0</td>\n",
              "      <td>17134</td>\n",
              "      <td>256</td>\n",
              "      <td>rs4</td>\n",
              "      <td>17134.1.amd64fre.rs4_release.180410-1804</td>\n",
              "      <td>Pro</td>\n",
              "      <td>1.0</td>\n",
              "      <td>0</td>\n",
              "      <td>NaN</td>\n",
              "      <td>0.0</td>\n",
              "      <td>137.0</td>\n",
              "      <td>ExistsNotSet</td>\n",
              "      <td>1.0</td>\n",
              "      <td>1.0</td>\n",
              "      <td>Desktop</td>\n",
              "      <td>Windows.Desktop</td>\n",
              "      <td>1443.0</td>\n",
              "      <td>275890.0</td>\n",
              "      <td>4.0</td>\n",
              "      <td>5.0</td>\n",
              "      <td>2273.0</td>\n",
              "      <td>NaN</td>\n",
              "      <td>238475.0</td>\n",
              "      <td>UNKNOWN</td>\n",
              "      <td>227116.0</td>\n",
              "      <td>0</td>\n",
              "      <td>4096.0</td>\n",
              "      <td>MiniTower</td>\n",
              "      <td>18.5</td>\n",
              "      <td>1366.0</td>\n",
              "      <td>768.0</td>\n",
              "      <td>Desktop</td>\n",
              "      <td>NaN</td>\n",
              "      <td>4.294967e+09</td>\n",
              "      <td>10.0.17134.228</td>\n",
              "      <td>amd64</td>\n",
              "      <td>rs4_release</td>\n",
              "      <td>17134</td>\n",
              "      <td>228</td>\n",
              "      <td>Professional</td>\n",
              "      <td>PROFESSIONAL</td>\n",
              "      <td>UUPUpgrade</td>\n",
              "      <td>17.0</td>\n",
              "      <td>64</td>\n",
              "      <td>FullAuto</td>\n",
              "      <td>0</td>\n",
              "      <td>IS_GENUINE</td>\n",
              "      <td>OEM:NONSLP</td>\n",
              "      <td>NaN</td>\n",
              "      <td>0.0</td>\n",
              "      <td>Retail</td>\n",
              "      <td>NaN</td>\n",
              "      <td>355.0</td>\n",
              "      <td>20050.0</td>\n",
              "      <td>0</td>\n",
              "      <td>NaN</td>\n",
              "      <td>0.0</td>\n",
              "      <td>0</td>\n",
              "      <td>0</td>\n",
              "      <td>0.0</td>\n",
              "      <td>0.0</td>\n",
              "      <td>3.0</td>\n",
              "      <td>1</td>\n",
              "    </tr>\n",
              "    <tr>\n",
              "      <th>4</th>\n",
              "      <td>4</td>\n",
              "      <td>win8defender</td>\n",
              "      <td>1.1.15100.1</td>\n",
              "      <td>4.18.1807.18075</td>\n",
              "      <td>1.273.1379.0</td>\n",
              "      <td>0</td>\n",
              "      <td>7.0</td>\n",
              "      <td>0</td>\n",
              "      <td>NaN</td>\n",
              "      <td>53447.0</td>\n",
              "      <td>1.0</td>\n",
              "      <td>1.0</td>\n",
              "      <td>1</td>\n",
              "      <td>18</td>\n",
              "      <td>37376.0</td>\n",
              "      <td>NaN</td>\n",
              "      <td>277.0</td>\n",
              "      <td>75</td>\n",
              "      <td>windows10</td>\n",
              "      <td>x64</td>\n",
              "      <td>10.0.0.0</td>\n",
              "      <td>17134</td>\n",
              "      <td>768</td>\n",
              "      <td>rs4</td>\n",
              "      <td>17134.1.amd64fre.rs4_release.180410-1804</td>\n",
              "      <td>Home</td>\n",
              "      <td>1.0</td>\n",
              "      <td>0</td>\n",
              "      <td>NaN</td>\n",
              "      <td>0.0</td>\n",
              "      <td>137.0</td>\n",
              "      <td>RequireAdmin</td>\n",
              "      <td>1.0</td>\n",
              "      <td>1.0</td>\n",
              "      <td>Notebook</td>\n",
              "      <td>Windows.Desktop</td>\n",
              "      <td>1443.0</td>\n",
              "      <td>331929.0</td>\n",
              "      <td>4.0</td>\n",
              "      <td>5.0</td>\n",
              "      <td>2500.0</td>\n",
              "      <td>NaN</td>\n",
              "      <td>476940.0</td>\n",
              "      <td>HDD</td>\n",
              "      <td>101900.0</td>\n",
              "      <td>0</td>\n",
              "      <td>6144.0</td>\n",
              "      <td>Portable</td>\n",
              "      <td>14.0</td>\n",
              "      <td>1366.0</td>\n",
              "      <td>768.0</td>\n",
              "      <td>Mobile</td>\n",
              "      <td>lion</td>\n",
              "      <td>0.000000e+00</td>\n",
              "      <td>10.0.17134.191</td>\n",
              "      <td>amd64</td>\n",
              "      <td>rs4_release</td>\n",
              "      <td>17134</td>\n",
              "      <td>191</td>\n",
              "      <td>Core</td>\n",
              "      <td>CORE</td>\n",
              "      <td>Update</td>\n",
              "      <td>8.0</td>\n",
              "      <td>31</td>\n",
              "      <td>FullAuto</td>\n",
              "      <td>0</td>\n",
              "      <td>IS_GENUINE</td>\n",
              "      <td>Retail</td>\n",
              "      <td>0.0</td>\n",
              "      <td>0.0</td>\n",
              "      <td>Retail</td>\n",
              "      <td>0.0</td>\n",
              "      <td>355.0</td>\n",
              "      <td>19844.0</td>\n",
              "      <td>0</td>\n",
              "      <td>0.0</td>\n",
              "      <td>0.0</td>\n",
              "      <td>0</td>\n",
              "      <td>0</td>\n",
              "      <td>0.0</td>\n",
              "      <td>0.0</td>\n",
              "      <td>1.0</td>\n",
              "      <td>1</td>\n",
              "    </tr>\n",
              "  </tbody>\n",
              "</table>\n",
              "</div>"
            ],
            "text/plain": [
              "   MachineIdentifier   ProductName EngineVersion       AppVersion  \\\n",
              "0                  0  win8defender   1.1.15100.1  4.18.1807.18075   \n",
              "1                  1  win8defender   1.1.14600.4     4.13.17134.1   \n",
              "2                  2  win8defender   1.1.15100.1  4.18.1807.18075   \n",
              "3                  3  win8defender   1.1.15100.1  4.18.1807.18075   \n",
              "4                  4  win8defender   1.1.15100.1  4.18.1807.18075   \n",
              "\n",
              "   AvSigVersion  IsBeta  RtpStateBitfield  IsSxsPassiveMode  \\\n",
              "0  1.273.1735.0       0               7.0                 0   \n",
              "1    1.263.48.0       0               7.0                 0   \n",
              "2  1.273.1341.0       0               7.0                 0   \n",
              "3  1.273.1527.0       0               7.0                 0   \n",
              "4  1.273.1379.0       0               7.0                 0   \n",
              "\n",
              "   DefaultBrowsersIdentifier  AVProductStatesIdentifier  AVProductsInstalled  \\\n",
              "0                        NaN                    53447.0                  1.0   \n",
              "1                        NaN                    53447.0                  1.0   \n",
              "2                        NaN                    53447.0                  1.0   \n",
              "3                        NaN                    53447.0                  1.0   \n",
              "4                        NaN                    53447.0                  1.0   \n",
              "\n",
              "   AVProductsEnabled  HasTpm  CountryIdentifier  CityIdentifier  \\\n",
              "0                1.0       1                 29        128035.0   \n",
              "1                1.0       1                 93          1482.0   \n",
              "2                1.0       1                 86        153579.0   \n",
              "3                1.0       1                 88         20710.0   \n",
              "4                1.0       1                 18         37376.0   \n",
              "\n",
              "   OrganizationIdentifier  GeoNameIdentifier  LocaleEnglishNameIdentifier  \\\n",
              "0                    18.0               35.0                          171   \n",
              "1                    18.0              119.0                           64   \n",
              "2                    18.0               64.0                           49   \n",
              "3                     NaN              117.0                          115   \n",
              "4                     NaN              277.0                           75   \n",
              "\n",
              "    Platform Processor     OsVer  OsBuild  OsSuite OsPlatformSubRelease  \\\n",
              "0  windows10       x64  10.0.0.0    17134      256                  rs4   \n",
              "1  windows10       x64  10.0.0.0    17134      256                  rs4   \n",
              "2  windows10       x64  10.0.0.0    17134      768                  rs4   \n",
              "3  windows10       x64  10.0.0.0    17134      256                  rs4   \n",
              "4  windows10       x64  10.0.0.0    17134      768                  rs4   \n",
              "\n",
              "                                 OsBuildLab SkuEdition  IsProtected  \\\n",
              "0  17134.1.amd64fre.rs4_release.180410-1804        Pro          1.0   \n",
              "1  17134.1.amd64fre.rs4_release.180410-1804        Pro          1.0   \n",
              "2  17134.1.amd64fre.rs4_release.180410-1804       Home          1.0   \n",
              "3  17134.1.amd64fre.rs4_release.180410-1804        Pro          1.0   \n",
              "4  17134.1.amd64fre.rs4_release.180410-1804       Home          1.0   \n",
              "\n",
              "   AutoSampleOptIn PuaMode  SMode  IeVerIdentifier   SmartScreen  Firewall  \\\n",
              "0                0     NaN    0.0            137.0           NaN       1.0   \n",
              "1                0     NaN    0.0            137.0           NaN       1.0   \n",
              "2                0     NaN    0.0            137.0  RequireAdmin       1.0   \n",
              "3                0     NaN    0.0            137.0  ExistsNotSet       1.0   \n",
              "4                0     NaN    0.0            137.0  RequireAdmin       1.0   \n",
              "\n",
              "   UacLuaenable Census_MDC2FormFactor Census_DeviceFamily  \\\n",
              "0           1.0               Desktop     Windows.Desktop   \n",
              "1           1.0              Notebook     Windows.Desktop   \n",
              "2           1.0               Desktop     Windows.Desktop   \n",
              "3           1.0               Desktop     Windows.Desktop   \n",
              "4           1.0              Notebook     Windows.Desktop   \n",
              "\n",
              "   Census_OEMNameIdentifier  Census_OEMModelIdentifier  \\\n",
              "0                    2668.0                     9124.0   \n",
              "1                    2668.0                    91656.0   \n",
              "2                    4909.0                   317701.0   \n",
              "3                    1443.0                   275890.0   \n",
              "4                    1443.0                   331929.0   \n",
              "\n",
              "   Census_ProcessorCoreCount  Census_ProcessorManufacturerIdentifier  \\\n",
              "0                        4.0                                     5.0   \n",
              "1                        4.0                                     5.0   \n",
              "2                        4.0                                     5.0   \n",
              "3                        4.0                                     5.0   \n",
              "4                        4.0                                     5.0   \n",
              "\n",
              "   Census_ProcessorModelIdentifier Census_ProcessorClass  \\\n",
              "0                           2341.0                   NaN   \n",
              "1                           2405.0                   NaN   \n",
              "2                           1972.0                   NaN   \n",
              "3                           2273.0                   NaN   \n",
              "4                           2500.0                   NaN   \n",
              "\n",
              "   Census_PrimaryDiskTotalCapacity Census_PrimaryDiskTypeName  \\\n",
              "0                         476940.0                        HDD   \n",
              "1                         476940.0                        HDD   \n",
              "2                         114473.0                        SSD   \n",
              "3                         238475.0                    UNKNOWN   \n",
              "4                         476940.0                        HDD   \n",
              "\n",
              "   Census_SystemVolumeTotalCapacity  Census_HasOpticalDiskDrive  \\\n",
              "0                          299451.0                           0   \n",
              "1                          102385.0                           0   \n",
              "2                          113907.0                           0   \n",
              "3                          227116.0                           0   \n",
              "4                          101900.0                           0   \n",
              "\n",
              "   Census_TotalPhysicalRAM Census_ChassisTypeName  \\\n",
              "0                   4096.0                Desktop   \n",
              "1                   4096.0               Notebook   \n",
              "2                   4096.0                Desktop   \n",
              "3                   4096.0              MiniTower   \n",
              "4                   6144.0               Portable   \n",
              "\n",
              "   Census_InternalPrimaryDiagonalDisplaySizeInInches  \\\n",
              "0                                               18.9   \n",
              "1                                               13.9   \n",
              "2                                               21.5   \n",
              "3                                               18.5   \n",
              "4                                               14.0   \n",
              "\n",
              "   Census_InternalPrimaryDisplayResolutionHorizontal  \\\n",
              "0                                             1440.0   \n",
              "1                                             1366.0   \n",
              "2                                             1920.0   \n",
              "3                                             1366.0   \n",
              "4                                             1366.0   \n",
              "\n",
              "   Census_InternalPrimaryDisplayResolutionVertical  \\\n",
              "0                                            900.0   \n",
              "1                                            768.0   \n",
              "2                                           1080.0   \n",
              "3                                            768.0   \n",
              "4                                            768.0   \n",
              "\n",
              "  Census_PowerPlatformRoleName Census_InternalBatteryType  \\\n",
              "0                      Desktop                        NaN   \n",
              "1                       Mobile                        NaN   \n",
              "2                      Desktop                        NaN   \n",
              "3                      Desktop                        NaN   \n",
              "4                       Mobile                       lion   \n",
              "\n",
              "   Census_InternalBatteryNumberOfCharges Census_OSVersion  \\\n",
              "0                           4.294967e+09   10.0.17134.165   \n",
              "1                           1.000000e+00     10.0.17134.1   \n",
              "2                           4.294967e+09   10.0.17134.165   \n",
              "3                           4.294967e+09   10.0.17134.228   \n",
              "4                           0.000000e+00   10.0.17134.191   \n",
              "\n",
              "  Census_OSArchitecture Census_OSBranch  Census_OSBuildNumber  \\\n",
              "0                 amd64     rs4_release                 17134   \n",
              "1                 amd64     rs4_release                 17134   \n",
              "2                 amd64     rs4_release                 17134   \n",
              "3                 amd64     rs4_release                 17134   \n",
              "4                 amd64     rs4_release                 17134   \n",
              "\n",
              "   Census_OSBuildRevision Census_OSEdition Census_OSSkuName  \\\n",
              "0                     165     Professional     PROFESSIONAL   \n",
              "1                       1     Professional     PROFESSIONAL   \n",
              "2                     165             Core             CORE   \n",
              "3                     228     Professional     PROFESSIONAL   \n",
              "4                     191             Core             CORE   \n",
              "\n",
              "  Census_OSInstallTypeName  Census_OSInstallLanguageIdentifier  \\\n",
              "0               UUPUpgrade                                26.0   \n",
              "1                 IBSClean                                 8.0   \n",
              "2               UUPUpgrade                                 7.0   \n",
              "3               UUPUpgrade                                17.0   \n",
              "4                   Update                                 8.0   \n",
              "\n",
              "   Census_OSUILocaleIdentifier Census_OSWUAutoUpdateOptionsName  \\\n",
              "0                          119                          UNKNOWN   \n",
              "1                           31                          UNKNOWN   \n",
              "2                           30                         FullAuto   \n",
              "3                           64                         FullAuto   \n",
              "4                           31                         FullAuto   \n",
              "\n",
              "   Census_IsPortableOperatingSystem Census_GenuineStateName  \\\n",
              "0                                 0              IS_GENUINE   \n",
              "1                                 0                 OFFLINE   \n",
              "2                                 0              IS_GENUINE   \n",
              "3                                 0              IS_GENUINE   \n",
              "4                                 0              IS_GENUINE   \n",
              "\n",
              "  Census_ActivationChannel  Census_IsFlightingInternal  \\\n",
              "0                   Retail                         NaN   \n",
              "1                   Retail                         NaN   \n",
              "2               OEM:NONSLP                         NaN   \n",
              "3               OEM:NONSLP                         NaN   \n",
              "4                   Retail                         0.0   \n",
              "\n",
              "   Census_IsFlightsDisabled Census_FlightRing  Census_ThresholdOptIn  \\\n",
              "0                       0.0            Retail                    NaN   \n",
              "1                       0.0           NOT_SET                    NaN   \n",
              "2                       0.0            Retail                    NaN   \n",
              "3                       0.0            Retail                    NaN   \n",
              "4                       0.0            Retail                    0.0   \n",
              "\n",
              "   Census_FirmwareManufacturerIdentifier  Census_FirmwareVersionIdentifier  \\\n",
              "0                                  628.0                           36144.0   \n",
              "1                                  628.0                           57858.0   \n",
              "2                                  142.0                           52682.0   \n",
              "3                                  355.0                           20050.0   \n",
              "4                                  355.0                           19844.0   \n",
              "\n",
              "   Census_IsSecureBootEnabled  Census_IsWIMBootEnabled  \\\n",
              "0                           0                      NaN   \n",
              "1                           0                      NaN   \n",
              "2                           0                      NaN   \n",
              "3                           0                      NaN   \n",
              "4                           0                      0.0   \n",
              "\n",
              "   Census_IsVirtualDevice  Census_IsTouchEnabled  Census_IsPenCapable  \\\n",
              "0                     0.0                      0                    0   \n",
              "1                     0.0                      0                    0   \n",
              "2                     0.0                      0                    0   \n",
              "3                     0.0                      0                    0   \n",
              "4                     0.0                      0                    0   \n",
              "\n",
              "   Census_IsAlwaysOnAlwaysConnectedCapable  Wdft_IsGamer  \\\n",
              "0                                      0.0           0.0   \n",
              "1                                      0.0           0.0   \n",
              "2                                      0.0           0.0   \n",
              "3                                      0.0           0.0   \n",
              "4                                      0.0           0.0   \n",
              "\n",
              "   Wdft_RegionIdentifier  HasDetections  \n",
              "0                   10.0              0  \n",
              "1                    8.0              0  \n",
              "2                    3.0              0  \n",
              "3                    3.0              1  \n",
              "4                    1.0              1  "
            ]
          },
          "metadata": {
            "tags": []
          },
          "execution_count": 6
        }
      ]
    },
    {
      "metadata": {
        "id": "D5LkuS8cckTE",
        "colab_type": "code",
        "outputId": "6784e696-ecd3-4eb1-ca87-4529da4c65c0",
        "colab": {
          "base_uri": "https://localhost:8080/",
          "height": 34
        }
      },
      "cell_type": "code",
      "source": [
        "train.shape"
      ],
      "execution_count": 0,
      "outputs": [
        {
          "output_type": "execute_result",
          "data": {
            "text/plain": [
              "(8921483, 83)"
            ]
          },
          "metadata": {
            "tags": []
          },
          "execution_count": 7
        }
      ]
    },
    {
      "metadata": {
        "id": "iQaCDmcdclf1",
        "colab_type": "code",
        "outputId": "28f5e5c4-cf91-421e-f91a-f67f68543e08",
        "colab": {
          "base_uri": "https://localhost:8080/",
          "height": 34
        }
      },
      "cell_type": "code",
      "source": [
        "test.shape"
      ],
      "execution_count": 0,
      "outputs": [
        {
          "output_type": "execute_result",
          "data": {
            "text/plain": [
              "(7853253, 82)"
            ]
          },
          "metadata": {
            "tags": []
          },
          "execution_count": 8
        }
      ]
    },
    {
      "metadata": {
        "id": "nvij_P0-KExH",
        "colab_type": "text"
      },
      "cell_type": "markdown",
      "source": [
        "### Deal with missing values\n",
        "\n",
        "In order for the `scikit-learn` implementation of SVM to work, we will have to fill all the missing values.\n",
        "\n",
        "Note: if using LightGBM or XGBoost we don't have to do feature selection (auto selected, based on decision trees). The 2 ensemble methods have a better tolerance on NANs."
      ]
    },
    {
      "metadata": {
        "id": "CLrQ7dvJKVkr",
        "colab_type": "code",
        "outputId": "c7c3d0c7-0da4-4575-8e90-e9be69575439",
        "colab": {
          "base_uri": "https://localhost:8080/",
          "height": 773
        }
      },
      "cell_type": "code",
      "source": [
        "# Nan Values\n",
        "null_counts = train.isnull().sum()/train.shape[0]\n",
        "#print(null_counts)\n",
        "print(\"Columns with at least 1 NA:\")\n",
        "for index in null_counts[null_counts > 0].index:\n",
        "  print(\"name:\", index, \"types:\", train[index].dtypes, '% null:', null_counts[index])"
      ],
      "execution_count": 0,
      "outputs": [
        {
          "output_type": "stream",
          "text": [
            "Columns with at least 1 NA:\n",
            "name: RtpStateBitfield types: float16 % null: 0.003622491910817966\n",
            "name: DefaultBrowsersIdentifier types: float32 % null: 0.9514163732644001\n",
            "name: AVProductStatesIdentifier types: float32 % null: 0.004059975230575455\n",
            "name: AVProductsInstalled types: float16 % null: 0.004059975230575455\n",
            "name: AVProductsEnabled types: float16 % null: 0.004059975230575455\n",
            "name: CityIdentifier types: float32 % null: 0.0364747654621995\n",
            "name: OrganizationIdentifier types: float16 % null: 0.3084148677972037\n",
            "name: GeoNameIdentifier types: float16 % null: 2.3874954421815298e-05\n",
            "name: OsBuildLab types: category % null: 2.3538687458127756e-06\n",
            "name: IsProtected types: float16 % null: 0.00404013547971789\n",
            "name: PuaMode types: category % null: 0.9997411865269485\n",
            "name: SMode types: float16 % null: 0.0602768620418825\n",
            "name: IeVerIdentifier types: float16 % null: 0.006601368853137982\n",
            "name: SmartScreen types: category % null: 0.35610794752397107\n",
            "name: Firewall types: float16 % null: 0.010239329044285575\n",
            "name: UacLuaenable types: float64 % null: 0.001214820450815184\n",
            "name: Census_OEMNameIdentifier types: float32 % null: 0.01070203238631963\n",
            "name: Census_OEMModelIdentifier types: float32 % null: 0.011459193499556071\n",
            "name: Census_ProcessorCoreCount types: float16 % null: 0.004629947734025834\n",
            "name: Census_ProcessorManufacturerIdentifier types: float16 % null: 0.004630732356941105\n",
            "name: Census_ProcessorModelIdentifier types: float32 % null: 0.004634095026577981\n",
            "name: Census_ProcessorClass types: category % null: 0.9958940682843872\n",
            "name: Census_PrimaryDiskTotalCapacity types: float64 % null: 0.005942509782286196\n",
            "name: Census_PrimaryDiskTypeName types: category % null: 0.001439670960534252\n",
            "name: Census_SystemVolumeTotalCapacity types: float64 % null: 0.005940940536455655\n",
            "name: Census_TotalPhysicalRAM types: float32 % null: 0.009026862462216203\n",
            "name: Census_ChassisTypeName types: category % null: 6.983143945911235e-05\n",
            "name: Census_InternalPrimaryDiagonalDisplaySizeInInches types: float32 % null: 0.005283202355482827\n",
            "name: Census_InternalPrimaryDisplayResolutionHorizontal types: float32 % null: 0.005266613185274242\n",
            "name: Census_InternalPrimaryDisplayResolutionVertical types: float32 % null: 0.005266613185274242\n",
            "name: Census_PowerPlatformRoleName types: category % null: 6.164894334271555e-06\n",
            "name: Census_InternalBatteryType types: category % null: 0.7104680914596823\n",
            "name: Census_InternalBatteryNumberOfCharges types: float64 % null: 0.030124475941948215\n",
            "name: Census_OSInstallLanguageIdentifier types: float16 % null: 0.006734754748734039\n",
            "name: Census_IsFlightingInternal types: float16 % null: 0.8304402978742436\n",
            "name: Census_IsFlightsDisabled types: float16 % null: 0.017992860604004964\n",
            "name: Census_ThresholdOptIn types: float16 % null: 0.635244723326828\n",
            "name: Census_FirmwareManufacturerIdentifier types: float16 % null: 0.020541091654829136\n",
            "name: Census_FirmwareVersionIdentifier types: float32 % null: 0.017949145898725583\n",
            "name: Census_IsWIMBootEnabled types: float16 % null: 0.6343903810610859\n",
            "name: Census_IsVirtualDevice types: float16 % null: 0.0017881556239024386\n",
            "name: Census_IsAlwaysOnAlwaysConnectedCapable types: float16 % null: 0.007996764663453374\n",
            "name: Wdft_IsGamer types: float16 % null: 0.034013515465982504\n",
            "name: Wdft_RegionIdentifier types: float16 % null: 0.034013515465982504\n"
          ],
          "name": "stdout"
        }
      ]
    },
    {
      "metadata": {
        "id": "xLYTuZbqB7R6",
        "colab_type": "text"
      },
      "cell_type": "markdown",
      "source": [
        "So we have 44 features that have NAN values. I tried to drop those features, but then we will be left with too few parameters. If dropping rows containing at least 1 NAN, we will end up with less than half of the records. Neither way seems to be an ideal solution.\n",
        "\n",
        "Inspired by [this notebook](https://www.kaggle.com/bogorodvo/lightgbm-baseline-model-using-sparse-matrix), I think we should try converting all features into categorical encoding, adding a \"NA\" category, then fit with SVM. (To better preserve the data)\n",
        "\n",
        "* Note: this is using label encoding only. <u>A possibility is to try out different type of encoding based on the type of the data.</u> [source](https://www.kaggle.com/fabiendaniel/detecting-malwares-with-lgbm)"
      ]
    },
    {
      "metadata": {
        "id": "TLa5hlBzCcFD",
        "colab_type": "code",
        "outputId": "29cfda21-6813-4dce-e374-9b6ba949ccec",
        "colab": {
          "base_uri": "https://localhost:8080/",
          "height": 340
        }
      },
      "cell_type": "code",
      "source": [
        "print('Transform all features to category.\\n')\n",
        "count = 0\n",
        "for usecol in train.columns.tolist()[1:-1]:\n",
        "\n",
        "    if count % 5 == 0:\n",
        "        print(\"Processed\",count,\"features.\")\n",
        "      \n",
        "    train[usecol] = train[usecol].astype('str')\n",
        "    test[usecol] = test[usecol].astype('str')\n",
        "    \n",
        "    #Fit LabelEncoder\n",
        "    le = LabelEncoder().fit(\n",
        "            np.unique(train[usecol].unique().tolist()+\n",
        "                      test[usecol].unique().tolist()))\n",
        "\n",
        "    #At the end 0 will be used for dropped values\n",
        "    train[usecol] = le.transform(train[usecol])+1\n",
        "    test[usecol]  = le.transform(test[usecol])+1\n",
        "\n",
        "    agg_tr = (train\n",
        "              .groupby([usecol])\n",
        "              .aggregate({'MachineIdentifier':'count'})\n",
        "              .reset_index()\n",
        "              .rename({'MachineIdentifier':'Train'}, axis=1))\n",
        "    agg_te = (test\n",
        "              .groupby([usecol])\n",
        "              .aggregate({'MachineIdentifier':'count'})\n",
        "              .reset_index()\n",
        "              .rename({'MachineIdentifier':'Test'}, axis=1))\n",
        "\n",
        "    agg = pd.merge(agg_tr, agg_te, on=usecol, how='outer').replace(np.nan, 0)\n",
        "    #Select values with more than 1000 observations\n",
        "    agg = agg[(agg['Train'] > 1000)].reset_index(drop=True)\n",
        "    agg['Total'] = agg['Train'] + agg['Test']\n",
        "    #Drop unbalanced values\n",
        "    agg = agg[(agg['Train'] / agg['Total'] > 0.2) & (agg['Train'] / agg['Total'] < 0.8)]\n",
        "    agg[usecol+'Copy'] = agg[usecol]\n",
        "\n",
        "    train[usecol] = (pd.merge(train[[usecol]], \n",
        "                              agg[[usecol, usecol+'Copy']], \n",
        "                              on=usecol, how='left')[usecol+'Copy']\n",
        "                     .replace(np.nan, 0).astype('int').astype('category'))\n",
        "\n",
        "    test[usecol]  = (pd.merge(test[[usecol]], \n",
        "                              agg[[usecol, usecol+'Copy']], \n",
        "                              on=usecol, how='left')[usecol+'Copy']\n",
        "                     .replace(np.nan, 0).astype('int').astype('category'))\n",
        "\n",
        "    del le, agg_tr, agg_te, agg, usecol\n",
        "    gc.collect()\n",
        "    count += 1"
      ],
      "execution_count": 7,
      "outputs": [
        {
          "output_type": "stream",
          "text": [
            "Transform all features to category.\n",
            "\n",
            "Processed 0 features.\n",
            "Processed 5 features.\n",
            "Processed 10 features.\n",
            "Processed 15 features.\n",
            "Processed 20 features.\n",
            "Processed 25 features.\n",
            "Processed 30 features.\n",
            "Processed 35 features.\n",
            "Processed 40 features.\n",
            "Processed 45 features.\n",
            "Processed 50 features.\n",
            "Processed 55 features.\n",
            "Processed 60 features.\n",
            "Processed 65 features.\n",
            "Processed 70 features.\n",
            "Processed 75 features.\n",
            "Processed 80 features.\n"
          ],
          "name": "stdout"
        }
      ]
    },
    {
      "metadata": {
        "id": "QU0we3-naE7_",
        "colab_type": "text"
      },
      "cell_type": "markdown",
      "source": [
        "Take a look at the result. We can see that all columns have been encoded as categories."
      ]
    },
    {
      "metadata": {
        "id": "dnNemfuBZ8Zz",
        "colab_type": "code",
        "outputId": "dd662b09-5dc9-4d76-8d74-0390e6a54055",
        "colab": {
          "base_uri": "https://localhost:8080/",
          "height": 131
        }
      },
      "cell_type": "code",
      "source": [
        "train.sample(n=2)"
      ],
      "execution_count": 0,
      "outputs": [
        {
          "output_type": "execute_result",
          "data": {
            "text/html": [
              "<div>\n",
              "<style scoped>\n",
              "    .dataframe tbody tr th:only-of-type {\n",
              "        vertical-align: middle;\n",
              "    }\n",
              "\n",
              "    .dataframe tbody tr th {\n",
              "        vertical-align: top;\n",
              "    }\n",
              "\n",
              "    .dataframe thead th {\n",
              "        text-align: right;\n",
              "    }\n",
              "</style>\n",
              "<table border=\"1\" class=\"dataframe\">\n",
              "  <thead>\n",
              "    <tr style=\"text-align: right;\">\n",
              "      <th></th>\n",
              "      <th>MachineIdentifier</th>\n",
              "      <th>ProductName</th>\n",
              "      <th>EngineVersion</th>\n",
              "      <th>AppVersion</th>\n",
              "      <th>AvSigVersion</th>\n",
              "      <th>IsBeta</th>\n",
              "      <th>RtpStateBitfield</th>\n",
              "      <th>IsSxsPassiveMode</th>\n",
              "      <th>DefaultBrowsersIdentifier</th>\n",
              "      <th>AVProductStatesIdentifier</th>\n",
              "      <th>AVProductsInstalled</th>\n",
              "      <th>AVProductsEnabled</th>\n",
              "      <th>HasTpm</th>\n",
              "      <th>CountryIdentifier</th>\n",
              "      <th>CityIdentifier</th>\n",
              "      <th>OrganizationIdentifier</th>\n",
              "      <th>GeoNameIdentifier</th>\n",
              "      <th>LocaleEnglishNameIdentifier</th>\n",
              "      <th>Platform</th>\n",
              "      <th>Processor</th>\n",
              "      <th>OsVer</th>\n",
              "      <th>OsBuild</th>\n",
              "      <th>OsSuite</th>\n",
              "      <th>OsPlatformSubRelease</th>\n",
              "      <th>OsBuildLab</th>\n",
              "      <th>SkuEdition</th>\n",
              "      <th>IsProtected</th>\n",
              "      <th>AutoSampleOptIn</th>\n",
              "      <th>PuaMode</th>\n",
              "      <th>SMode</th>\n",
              "      <th>IeVerIdentifier</th>\n",
              "      <th>SmartScreen</th>\n",
              "      <th>Firewall</th>\n",
              "      <th>UacLuaenable</th>\n",
              "      <th>Census_MDC2FormFactor</th>\n",
              "      <th>Census_DeviceFamily</th>\n",
              "      <th>Census_OEMNameIdentifier</th>\n",
              "      <th>Census_OEMModelIdentifier</th>\n",
              "      <th>Census_ProcessorCoreCount</th>\n",
              "      <th>Census_ProcessorManufacturerIdentifier</th>\n",
              "      <th>Census_ProcessorModelIdentifier</th>\n",
              "      <th>Census_ProcessorClass</th>\n",
              "      <th>Census_PrimaryDiskTotalCapacity</th>\n",
              "      <th>Census_PrimaryDiskTypeName</th>\n",
              "      <th>Census_SystemVolumeTotalCapacity</th>\n",
              "      <th>Census_HasOpticalDiskDrive</th>\n",
              "      <th>Census_TotalPhysicalRAM</th>\n",
              "      <th>Census_ChassisTypeName</th>\n",
              "      <th>Census_InternalPrimaryDiagonalDisplaySizeInInches</th>\n",
              "      <th>Census_InternalPrimaryDisplayResolutionHorizontal</th>\n",
              "      <th>Census_InternalPrimaryDisplayResolutionVertical</th>\n",
              "      <th>Census_PowerPlatformRoleName</th>\n",
              "      <th>Census_InternalBatteryType</th>\n",
              "      <th>Census_InternalBatteryNumberOfCharges</th>\n",
              "      <th>Census_OSVersion</th>\n",
              "      <th>Census_OSArchitecture</th>\n",
              "      <th>Census_OSBranch</th>\n",
              "      <th>Census_OSBuildNumber</th>\n",
              "      <th>Census_OSBuildRevision</th>\n",
              "      <th>Census_OSEdition</th>\n",
              "      <th>Census_OSSkuName</th>\n",
              "      <th>Census_OSInstallTypeName</th>\n",
              "      <th>Census_OSInstallLanguageIdentifier</th>\n",
              "      <th>Census_OSUILocaleIdentifier</th>\n",
              "      <th>Census_OSWUAutoUpdateOptionsName</th>\n",
              "      <th>Census_IsPortableOperatingSystem</th>\n",
              "      <th>Census_GenuineStateName</th>\n",
              "      <th>Census_ActivationChannel</th>\n",
              "      <th>Census_IsFlightingInternal</th>\n",
              "      <th>Census_IsFlightsDisabled</th>\n",
              "      <th>Census_FlightRing</th>\n",
              "      <th>Census_ThresholdOptIn</th>\n",
              "      <th>Census_FirmwareManufacturerIdentifier</th>\n",
              "      <th>Census_FirmwareVersionIdentifier</th>\n",
              "      <th>Census_IsSecureBootEnabled</th>\n",
              "      <th>Census_IsWIMBootEnabled</th>\n",
              "      <th>Census_IsVirtualDevice</th>\n",
              "      <th>Census_IsTouchEnabled</th>\n",
              "      <th>Census_IsPenCapable</th>\n",
              "      <th>Census_IsAlwaysOnAlwaysConnectedCapable</th>\n",
              "      <th>Wdft_IsGamer</th>\n",
              "      <th>Wdft_RegionIdentifier</th>\n",
              "      <th>HasDetections</th>\n",
              "    </tr>\n",
              "  </thead>\n",
              "  <tbody>\n",
              "    <tr>\n",
              "      <th>1326058</th>\n",
              "      <td>1326058</td>\n",
              "      <td>5</td>\n",
              "      <td>0</td>\n",
              "      <td>0</td>\n",
              "      <td>0</td>\n",
              "      <td>1</td>\n",
              "      <td>7</td>\n",
              "      <td>1</td>\n",
              "      <td>2610</td>\n",
              "      <td>26978</td>\n",
              "      <td>2</td>\n",
              "      <td>2</td>\n",
              "      <td>2</td>\n",
              "      <td>67</td>\n",
              "      <td>128257</td>\n",
              "      <td>10</td>\n",
              "      <td>246</td>\n",
              "      <td>218</td>\n",
              "      <td>1</td>\n",
              "      <td>3</td>\n",
              "      <td>1</td>\n",
              "      <td>5</td>\n",
              "      <td>4</td>\n",
              "      <td>4</td>\n",
              "      <td>291</td>\n",
              "      <td>7</td>\n",
              "      <td>2</td>\n",
              "      <td>1</td>\n",
              "      <td>2</td>\n",
              "      <td>0</td>\n",
              "      <td>17</td>\n",
              "      <td>10</td>\n",
              "      <td>2</td>\n",
              "      <td>2</td>\n",
              "      <td>11</td>\n",
              "      <td>2</td>\n",
              "      <td>0</td>\n",
              "      <td>0</td>\n",
              "      <td>31</td>\n",
              "      <td>6</td>\n",
              "      <td>828</td>\n",
              "      <td>4</td>\n",
              "      <td>6871</td>\n",
              "      <td>2</td>\n",
              "      <td>0</td>\n",
              "      <td>2</td>\n",
              "      <td>1515</td>\n",
              "      <td>43</td>\n",
              "      <td>77</td>\n",
              "      <td>930</td>\n",
              "      <td>82</td>\n",
              "      <td>7</td>\n",
              "      <td>72</td>\n",
              "      <td>0</td>\n",
              "      <td>0</td>\n",
              "      <td>3</td>\n",
              "      <td>13</td>\n",
              "      <td>122</td>\n",
              "      <td>0</td>\n",
              "      <td>6</td>\n",
              "      <td>4</td>\n",
              "      <td>7</td>\n",
              "      <td>31</td>\n",
              "      <td>61</td>\n",
              "      <td>3</td>\n",
              "      <td>1</td>\n",
              "      <td>2</td>\n",
              "      <td>3</td>\n",
              "      <td>3</td>\n",
              "      <td>1</td>\n",
              "      <td>8</td>\n",
              "      <td>3</td>\n",
              "      <td>433</td>\n",
              "      <td>0</td>\n",
              "      <td>2</td>\n",
              "      <td>3</td>\n",
              "      <td>1</td>\n",
              "      <td>1</td>\n",
              "      <td>1</td>\n",
              "      <td>2</td>\n",
              "      <td>3</td>\n",
              "      <td>16</td>\n",
              "      <td>0</td>\n",
              "    </tr>\n",
              "    <tr>\n",
              "      <th>8350527</th>\n",
              "      <td>8350527</td>\n",
              "      <td>5</td>\n",
              "      <td>0</td>\n",
              "      <td>23</td>\n",
              "      <td>0</td>\n",
              "      <td>1</td>\n",
              "      <td>7</td>\n",
              "      <td>1</td>\n",
              "      <td>2610</td>\n",
              "      <td>26978</td>\n",
              "      <td>2</td>\n",
              "      <td>2</td>\n",
              "      <td>2</td>\n",
              "      <td>48</td>\n",
              "      <td>126479</td>\n",
              "      <td>19</td>\n",
              "      <td>76</td>\n",
              "      <td>142</td>\n",
              "      <td>1</td>\n",
              "      <td>2</td>\n",
              "      <td>1</td>\n",
              "      <td>5</td>\n",
              "      <td>13</td>\n",
              "      <td>4</td>\n",
              "      <td>293</td>\n",
              "      <td>5</td>\n",
              "      <td>2</td>\n",
              "      <td>1</td>\n",
              "      <td>2</td>\n",
              "      <td>0</td>\n",
              "      <td>17</td>\n",
              "      <td>21</td>\n",
              "      <td>2</td>\n",
              "      <td>2</td>\n",
              "      <td>9</td>\n",
              "      <td>2</td>\n",
              "      <td>1445</td>\n",
              "      <td>0</td>\n",
              "      <td>17</td>\n",
              "      <td>1</td>\n",
              "      <td>0</td>\n",
              "      <td>4</td>\n",
              "      <td>8637</td>\n",
              "      <td>1</td>\n",
              "      <td>0</td>\n",
              "      <td>1</td>\n",
              "      <td>2347</td>\n",
              "      <td>43</td>\n",
              "      <td>89</td>\n",
              "      <td>374</td>\n",
              "      <td>1576</td>\n",
              "      <td>4</td>\n",
              "      <td>72</td>\n",
              "      <td>1</td>\n",
              "      <td>364</td>\n",
              "      <td>1</td>\n",
              "      <td>11</td>\n",
              "      <td>102</td>\n",
              "      <td>242</td>\n",
              "      <td>8</td>\n",
              "      <td>6</td>\n",
              "      <td>6</td>\n",
              "      <td>39</td>\n",
              "      <td>85</td>\n",
              "      <td>6</td>\n",
              "      <td>1</td>\n",
              "      <td>2</td>\n",
              "      <td>3</td>\n",
              "      <td>3</td>\n",
              "      <td>1</td>\n",
              "      <td>8</td>\n",
              "      <td>3</td>\n",
              "      <td>544</td>\n",
              "      <td>0</td>\n",
              "      <td>2</td>\n",
              "      <td>3</td>\n",
              "      <td>1</td>\n",
              "      <td>1</td>\n",
              "      <td>1</td>\n",
              "      <td>1</td>\n",
              "      <td>3</td>\n",
              "      <td>16</td>\n",
              "      <td>0</td>\n",
              "    </tr>\n",
              "  </tbody>\n",
              "</table>\n",
              "</div>"
            ],
            "text/plain": [
              "         MachineIdentifier ProductName EngineVersion AppVersion AvSigVersion  \\\n",
              "1326058            1326058           5             0          0            0   \n",
              "8350527            8350527           5             0         23            0   \n",
              "\n",
              "        IsBeta RtpStateBitfield IsSxsPassiveMode DefaultBrowsersIdentifier  \\\n",
              "1326058      1                7                1                      2610   \n",
              "8350527      1                7                1                      2610   \n",
              "\n",
              "        AVProductStatesIdentifier AVProductsInstalled AVProductsEnabled  \\\n",
              "1326058                     26978                   2                 2   \n",
              "8350527                     26978                   2                 2   \n",
              "\n",
              "        HasTpm CountryIdentifier CityIdentifier OrganizationIdentifier  \\\n",
              "1326058      2                67         128257                     10   \n",
              "8350527      2                48         126479                     19   \n",
              "\n",
              "        GeoNameIdentifier LocaleEnglishNameIdentifier Platform Processor  \\\n",
              "1326058               246                         218        1         3   \n",
              "8350527                76                         142        1         2   \n",
              "\n",
              "        OsVer OsBuild OsSuite OsPlatformSubRelease OsBuildLab SkuEdition  \\\n",
              "1326058     1       5       4                    4        291          7   \n",
              "8350527     1       5      13                    4        293          5   \n",
              "\n",
              "        IsProtected AutoSampleOptIn PuaMode SMode IeVerIdentifier SmartScreen  \\\n",
              "1326058           2               1       2     0              17          10   \n",
              "8350527           2               1       2     0              17          21   \n",
              "\n",
              "        Firewall UacLuaenable Census_MDC2FormFactor Census_DeviceFamily  \\\n",
              "1326058        2            2                    11                   2   \n",
              "8350527        2            2                     9                   2   \n",
              "\n",
              "        Census_OEMNameIdentifier Census_OEMModelIdentifier  \\\n",
              "1326058                        0                         0   \n",
              "8350527                     1445                         0   \n",
              "\n",
              "        Census_ProcessorCoreCount Census_ProcessorManufacturerIdentifier  \\\n",
              "1326058                        31                                      6   \n",
              "8350527                        17                                      1   \n",
              "\n",
              "        Census_ProcessorModelIdentifier Census_ProcessorClass  \\\n",
              "1326058                             828                     4   \n",
              "8350527                               0                     4   \n",
              "\n",
              "        Census_PrimaryDiskTotalCapacity Census_PrimaryDiskTypeName  \\\n",
              "1326058                            6871                          2   \n",
              "8350527                            8637                          1   \n",
              "\n",
              "        Census_SystemVolumeTotalCapacity Census_HasOpticalDiskDrive  \\\n",
              "1326058                                0                          2   \n",
              "8350527                                0                          1   \n",
              "\n",
              "        Census_TotalPhysicalRAM Census_ChassisTypeName  \\\n",
              "1326058                    1515                     43   \n",
              "8350527                    2347                     43   \n",
              "\n",
              "        Census_InternalPrimaryDiagonalDisplaySizeInInches  \\\n",
              "1326058                                                77   \n",
              "8350527                                                89   \n",
              "\n",
              "        Census_InternalPrimaryDisplayResolutionHorizontal  \\\n",
              "1326058                                               930   \n",
              "8350527                                               374   \n",
              "\n",
              "        Census_InternalPrimaryDisplayResolutionVertical  \\\n",
              "1326058                                              82   \n",
              "8350527                                            1576   \n",
              "\n",
              "        Census_PowerPlatformRoleName Census_InternalBatteryType  \\\n",
              "1326058                            7                         72   \n",
              "8350527                            4                         72   \n",
              "\n",
              "        Census_InternalBatteryNumberOfCharges Census_OSVersion  \\\n",
              "1326058                                     0                0   \n",
              "8350527                                     1              364   \n",
              "\n",
              "        Census_OSArchitecture Census_OSBranch Census_OSBuildNumber  \\\n",
              "1326058                     3              13                  122   \n",
              "8350527                     1              11                  102   \n",
              "\n",
              "        Census_OSBuildRevision Census_OSEdition Census_OSSkuName  \\\n",
              "1326058                      0                6                4   \n",
              "8350527                    242                8                6   \n",
              "\n",
              "        Census_OSInstallTypeName Census_OSInstallLanguageIdentifier  \\\n",
              "1326058                        7                                 31   \n",
              "8350527                        6                                 39   \n",
              "\n",
              "        Census_OSUILocaleIdentifier Census_OSWUAutoUpdateOptionsName  \\\n",
              "1326058                          61                                3   \n",
              "8350527                          85                                6   \n",
              "\n",
              "        Census_IsPortableOperatingSystem Census_GenuineStateName  \\\n",
              "1326058                                1                       2   \n",
              "8350527                                1                       2   \n",
              "\n",
              "        Census_ActivationChannel Census_IsFlightingInternal  \\\n",
              "1326058                        3                          3   \n",
              "8350527                        3                          3   \n",
              "\n",
              "        Census_IsFlightsDisabled Census_FlightRing Census_ThresholdOptIn  \\\n",
              "1326058                        1                 8                     3   \n",
              "8350527                        1                 8                     3   \n",
              "\n",
              "        Census_FirmwareManufacturerIdentifier  \\\n",
              "1326058                                   433   \n",
              "8350527                                   544   \n",
              "\n",
              "        Census_FirmwareVersionIdentifier Census_IsSecureBootEnabled  \\\n",
              "1326058                                0                          2   \n",
              "8350527                                0                          2   \n",
              "\n",
              "        Census_IsWIMBootEnabled Census_IsVirtualDevice Census_IsTouchEnabled  \\\n",
              "1326058                       3                      1                     1   \n",
              "8350527                       3                      1                     1   \n",
              "\n",
              "        Census_IsPenCapable Census_IsAlwaysOnAlwaysConnectedCapable  \\\n",
              "1326058                   1                                       2   \n",
              "8350527                   1                                       1   \n",
              "\n",
              "        Wdft_IsGamer Wdft_RegionIdentifier  HasDetections  \n",
              "1326058            3                    16              0  \n",
              "8350527            3                    16              0  "
            ]
          },
          "metadata": {
            "tags": []
          },
          "execution_count": 7
        }
      ]
    },
    {
      "metadata": {
        "id": "0boJ8WCqYTCi",
        "colab_type": "code",
        "outputId": "7f19a977-5830-48d3-d1eb-7025f046a093",
        "colab": {
          "base_uri": "https://localhost:8080/",
          "height": 34
        }
      },
      "cell_type": "code",
      "source": [
        "y_target = np.array(train['HasDetections'])\n",
        "y_target_orig = train['HasDetections']\n",
        "train_ids = train.index\n",
        "test_ids  = test.index\n",
        "\n",
        "del train['HasDetections'], train['MachineIdentifier'], test['MachineIdentifier']\n",
        "gc.collect()"
      ],
      "execution_count": 0,
      "outputs": [
        {
          "output_type": "execute_result",
          "data": {
            "text/plain": [
              "21"
            ]
          },
          "metadata": {
            "tags": []
          },
          "execution_count": 9
        }
      ]
    },
    {
      "metadata": {
        "id": "M6STxuJKbnic",
        "colab_type": "code",
        "outputId": "a21a712f-88bf-4f43-b5eb-9d14f7842977",
        "colab": {
          "base_uri": "https://localhost:8080/",
          "height": 34
        }
      },
      "cell_type": "code",
      "source": [
        "y_target.shape"
      ],
      "execution_count": 0,
      "outputs": [
        {
          "output_type": "execute_result",
          "data": {
            "text/plain": [
              "(8921483,)"
            ]
          },
          "metadata": {
            "tags": []
          },
          "execution_count": 23
        }
      ]
    },
    {
      "metadata": {
        "id": "Jt5alCq0bpxq",
        "colab_type": "code",
        "outputId": "96fc3f04-0cd6-4e58-c383-f5cfe411aefe",
        "colab": {
          "base_uri": "https://localhost:8080/",
          "height": 34
        }
      },
      "cell_type": "code",
      "source": [
        "train.shape"
      ],
      "execution_count": 0,
      "outputs": [
        {
          "output_type": "execute_result",
          "data": {
            "text/plain": [
              "(7434570,)"
            ]
          },
          "metadata": {
            "tags": []
          },
          "execution_count": 24
        }
      ]
    },
    {
      "metadata": {
        "id": "a4VULou5YdpY",
        "colab_type": "text"
      },
      "cell_type": "markdown",
      "source": [
        "Using dense matrix now to fit SVM. Will try sparse matrix later."
      ]
    },
    {
      "metadata": {
        "id": "y66Rorq7YixO",
        "colab_type": "code",
        "colab": {}
      },
      "cell_type": "code",
      "source": [
        "from sklearn.model_selection import train_test_split\n",
        "\n",
        "X_train, X_test, y_train, y_test = train_test_split(train, y_target, test_size=0.33, random_state=42)"
      ],
      "execution_count": 0,
      "outputs": []
    },
    {
      "metadata": {
        "id": "dAP-Hw1c6ZJr",
        "colab_type": "text"
      },
      "cell_type": "markdown",
      "source": [
        "Unfortunately Linear SVC never works on Colab (though we have like 12GB RAM here). That's because scikit-learn implementation requires to see all data at once, and we happen to have a really large dataset. So instead of sparse representation, I will try some online fitting algorithms instead. (See the scikit-learn documentation [here](https://scikit-learn.org/0.15/modules/scaling_strategies.html))\n",
        "\n",
        "**IMPORTANT!** SGD Classifier is linear. So basically we've posed a linear assumption of the data (i.e. the relationship between the independent and dependent variables is linear.). This may or may not hold true, though. Also for linear models to work there are a set of [assumptions](https://www.statisticssolutions.com/assumptions-of-linear-regression/) we would need to satisfy. Just fitting all the data through SGD to create a naive model as of now."
      ]
    },
    {
      "metadata": {
        "id": "Rd-WH5mqZIE4",
        "colab_type": "code",
        "colab": {}
      },
      "cell_type": "code",
      "source": [
        "# DON'T TRY TO RUN THIS! IT WON'T WORK!\n",
        "# from sklearn.svm import LinearSVC\n",
        "\n",
        "# clf = LinearSVC(random_state=0, tol=1e-5)\n",
        "# clf.fit(X_train, y_train)"
      ],
      "execution_count": 0,
      "outputs": []
    },
    {
      "metadata": {
        "id": "BI4xOF9IaRdS",
        "colab_type": "code",
        "colab": {}
      },
      "cell_type": "code",
      "source": [
        "# clf.score(X_test, y_test)"
      ],
      "execution_count": 0,
      "outputs": []
    },
    {
      "metadata": {
        "id": "LM3oG7Ry86fU",
        "colab_type": "code",
        "colab": {}
      },
      "cell_type": "code",
      "source": [
        "# Trying SGD Classifier below\n",
        "from sklearn.linear_model import SGDClassifier\n",
        "import random\n",
        "\n",
        "clf = SGDClassifier()\n",
        "\n",
        "batch_size = 1000\n",
        "residual = 0\n",
        "num_of_iter = int(len(X_train) / batch_size)\n",
        "residual = len(X_train) % batch_size\n",
        "if num_of_iter * batch_size < len(X_train):\n",
        "  num_of_iter += 1"
      ],
      "execution_count": 0,
      "outputs": []
    },
    {
      "metadata": {
        "id": "kmpZGL-uKWw_",
        "colab_type": "code",
        "outputId": "57ba0322-c9eb-4c23-d254-c0cd1d8ce5f7",
        "colab": {
          "base_uri": "https://localhost:8080/",
          "height": 34
        }
      },
      "cell_type": "code",
      "source": [
        "print(\"num_of_iter:\",num_of_iter,\"residual:\",residual)"
      ],
      "execution_count": 0,
      "outputs": [
        {
          "output_type": "stream",
          "text": [
            "num_of_iter: 5978 residual: 393\n"
          ],
          "name": "stdout"
        }
      ]
    },
    {
      "metadata": {
        "id": "7ODIO4jY9wds",
        "colab_type": "code",
        "outputId": "4d4069cb-dfaa-4c8e-8f4a-e604d8435b8d",
        "colab": {
          "base_uri": "https://localhost:8080/",
          "height": 118
        }
      },
      "cell_type": "code",
      "source": [
        "for i in range(num_of_iter):\n",
        "  if i != num_of_iter - 1:\n",
        "    subset = slice(batch_size * i, batch_size * (i + 1))\n",
        "    #slice_indexes = [i for i in range(batch_size * i,batch_size * (i + 1))]\n",
        "  else:\n",
        "    subset = slice(batch_size * i, len(X_train))\n",
        "    #slice_indexes = [i for i in range(batch_size * i, len(X_train))]\n",
        "  #random.shuffle(slice_indexes)\n",
        "  X_sub = X_train[subset]\n",
        "  y_sub = y_train[subset]\n",
        "#   X_sub = X_train.loc[slice_indexes]\n",
        "#   y_sub = y_train[slice_indexes]\n",
        "  if i % batch_size == 0:\n",
        "    print(\"Finished %s iterations.\" % i)\n",
        "  clf.partial_fit(X_sub, y_sub, classes=np.unique(y_train))"
      ],
      "execution_count": 0,
      "outputs": [
        {
          "output_type": "stream",
          "text": [
            "Finished 0 iterations.\n",
            "Finished 1000 iterations.\n",
            "Finished 2000 iterations.\n",
            "Finished 3000 iterations.\n",
            "Finished 4000 iterations.\n",
            "Finished 5000 iterations.\n"
          ],
          "name": "stdout"
        }
      ]
    },
    {
      "metadata": {
        "id": "xpPHoq6D-WKN",
        "colab_type": "code",
        "outputId": "bb1c7b76-ca35-4285-cc3a-5f8e7a8a2425",
        "colab": {
          "base_uri": "https://localhost:8080/",
          "height": 34
        }
      },
      "cell_type": "code",
      "source": [
        "# predict on unseen data\n",
        "# a small test below\n",
        "y_pred = clf.predict(X_test[:10])\n",
        "y_pred"
      ],
      "execution_count": 0,
      "outputs": [
        {
          "output_type": "execute_result",
          "data": {
            "text/plain": [
              "array([1, 1, 1, 0, 0, 1, 1, 0, 1, 0], dtype=int8)"
            ]
          },
          "metadata": {
            "tags": []
          },
          "execution_count": 12
        }
      ]
    },
    {
      "metadata": {
        "id": "yHWMRQl7X1uK",
        "colab_type": "code",
        "outputId": "11e444c7-1db0-47d4-a8b5-024afd7196b7",
        "colab": {
          "base_uri": "https://localhost:8080/",
          "height": 34
        }
      },
      "cell_type": "code",
      "source": [
        "y_test[:10]"
      ],
      "execution_count": 0,
      "outputs": [
        {
          "output_type": "execute_result",
          "data": {
            "text/plain": [
              "array([1, 0, 0, 1, 1, 1, 0, 1, 0, 1], dtype=int8)"
            ]
          },
          "metadata": {
            "tags": []
          },
          "execution_count": 13
        }
      ]
    },
    {
      "metadata": {
        "id": "nNU9zUOrKi66",
        "colab_type": "code",
        "outputId": "48691273-c065-4d7d-aed3-003244879de5",
        "colab": {
          "base_uri": "https://localhost:8080/",
          "height": 34
        }
      },
      "cell_type": "code",
      "source": [
        "# Persist model\n",
        "from joblib import dump, load\n",
        "\n",
        "dump(clf, '/content/gdrive/My Drive/Coding experiment/MARTHA/data/MARTHA_SGDClassifier.joblib')"
      ],
      "execution_count": 0,
      "outputs": [
        {
          "output_type": "execute_result",
          "data": {
            "text/plain": [
              "['/content/gdrive/My Drive/Coding experiment/MARTHA/data/MARTHA_SGDClassifier.joblib']"
            ]
          },
          "metadata": {
            "tags": []
          },
          "execution_count": 18
        }
      ]
    },
    {
      "metadata": {
        "id": "2_0j6C1rXpmX",
        "colab_type": "code",
        "outputId": "6cf55470-bcd3-4776-fd13-4ee7ff7260cd",
        "colab": {
          "base_uri": "https://localhost:8080/",
          "height": 34
        }
      },
      "cell_type": "code",
      "source": [
        "# Getting an accuracy measurement\n",
        "clf.score(X_test, y_test)"
      ],
      "execution_count": 0,
      "outputs": [
        {
          "output_type": "execute_result",
          "data": {
            "text/plain": [
              "0.5159889813151093"
            ]
          },
          "metadata": {
            "tags": []
          },
          "execution_count": 14
        }
      ]
    },
    {
      "metadata": {
        "id": "_SLJCFjqX-Hy",
        "colab_type": "code",
        "outputId": "5292a25a-8b11-403f-ec8c-433f2618fda8",
        "colab": {
          "base_uri": "https://localhost:8080/",
          "height": 168
        }
      },
      "cell_type": "code",
      "source": [
        "# Confusion matrix\n",
        "from sklearn.metrics import classification_report\n",
        "\n",
        "y_pred = clf.predict(X_test)\n",
        "print(classification_report(y_test, y_pred))"
      ],
      "execution_count": 0,
      "outputs": [
        {
          "output_type": "stream",
          "text": [
            "              precision    recall  f1-score   support\n",
            "\n",
            "           0       0.52      0.51      0.51   1473693\n",
            "           1       0.52      0.53      0.52   1470397\n",
            "\n",
            "   micro avg       0.52      0.52      0.52   2944090\n",
            "   macro avg       0.52      0.52      0.52   2944090\n",
            "weighted avg       0.52      0.52      0.52   2944090\n",
            "\n"
          ],
          "name": "stdout"
        }
      ]
    },
    {
      "metadata": {
        "id": "VsAWzUhSdCLt",
        "colab_type": "code",
        "outputId": "27b72aab-fd62-4121-eb42-1f8f40f1127d",
        "colab": {
          "base_uri": "https://localhost:8080/",
          "height": 34
        }
      },
      "cell_type": "code",
      "source": [
        "# ROC?\n",
        "print('SGD (Raw) Testing set AUC Score: {}'.format(roc_auc_score(y_test, y_pred)))"
      ],
      "execution_count": 0,
      "outputs": [
        {
          "output_type": "stream",
          "text": [
            "SGD (Raw) Testing set AUC Score: 0.516000363652941\n"
          ],
          "name": "stdout"
        }
      ]
    },
    {
      "metadata": {
        "id": "LEs_wQ8NYoVW",
        "colab_type": "text"
      },
      "cell_type": "markdown",
      "source": [
        "Looks like SGD is quick and converged, but the accuracy and precision suffers. This can serve as our baseline model.\n",
        "\n",
        "Tried 3 versions of SGD with different batch size:\n",
        "\n",
        "* Batch size = 2000: saved model, accuracy ~ 50%\n",
        "* Batch size = 1000: accuracy ~ 51.6%\n",
        "* Batch size = 500: accuracy ~ 49.52%\n",
        "\n",
        "How can we bump up the accuracy even more using SGD?"
      ]
    },
    {
      "metadata": {
        "id": "VpbtBIoRws1X",
        "colab_type": "code",
        "outputId": "0c508f2f-f9c4-46f9-cb5c-40d6988e2384",
        "colab": {
          "base_uri": "https://localhost:8080/",
          "height": 34
        }
      },
      "cell_type": "code",
      "source": [
        "# Trying to use K-Fold here\n",
        "num_of_split = 6\n",
        "skf = StratifiedKFold(n_splits=num_of_split, shuffle=True, random_state=42)\n",
        "skf.get_n_splits(train.index, y_target_orig)"
      ],
      "execution_count": 0,
      "outputs": [
        {
          "output_type": "execute_result",
          "data": {
            "text/plain": [
              "6"
            ]
          },
          "metadata": {
            "tags": []
          },
          "execution_count": 8
        }
      ]
    },
    {
      "metadata": {
        "colab_type": "code",
        "id": "O87zX28fApmk",
        "colab": {}
      },
      "cell_type": "code",
      "source": [
        "# Trying SGD Classifier below\n",
        "from sklearn.linear_model import SGDClassifier\n",
        "import random\n",
        "\n",
        "clf = SGDClassifier(alpha=1e-05)"
      ],
      "execution_count": 0,
      "outputs": []
    },
    {
      "metadata": {
        "id": "UnZJ2rBZwzWa",
        "colab_type": "code",
        "outputId": "35344ec8-b027-4bf7-8603-46cd11829fec",
        "colab": {
          "base_uri": "https://localhost:8080/",
          "height": 1126
        }
      },
      "cell_type": "code",
      "source": [
        "index = 1\n",
        "for train_index, test_index in skf.split(train.index, y_target_orig):\n",
        "    X_fit, X_val = train[train.index.isin(train_index)],   train[train.index.isin(test_index)]\n",
        "    y_fit, y_val = y_target_orig[y_target_orig.index.isin(train_index)], y_target_orig[y_target_orig.index.isin(test_index)]\n",
        "\n",
        "    batch_size = 1000\n",
        "    residual = 0\n",
        "    num_of_iter = int(len(X_fit) / batch_size)\n",
        "    residual = len(X_fit) % batch_size\n",
        "    if num_of_iter * batch_size < len(X_fit):\n",
        "      num_of_iter += 1\n",
        "      \n",
        "    print(\"split:\",index,\"num_of_iter:\",num_of_iter,\"residual:\",residual)\n",
        "    \n",
        "    for i in range(num_of_iter):\n",
        "      if i != num_of_iter - 1:\n",
        "        subset = slice(batch_size * i, batch_size * (i + 1))\n",
        "      else:\n",
        "        subset = slice(batch_size * i, len(X_fit))\n",
        "      X_sub = X_fit[subset]\n",
        "      y_sub = y_fit[subset]\n",
        "      if i % batch_size == 0:\n",
        "        print(\"Finished %s iterations.\" % i)\n",
        "      clf.partial_fit(X_sub, y_sub, classes=np.unique(y_target_orig))\n",
        "      \n",
        "    y_pred = clf.predict(X_val)\n",
        "    print('\\nSGD (Raw) AUC Score: {}'.format(roc_auc_score(y_val, y_pred)),'Fold:',index)\n",
        "\n",
        "    del X_fit, X_val, y_fit, y_val\n",
        "    gc.collect()\n",
        "    index += 1"
      ],
      "execution_count": 0,
      "outputs": [
        {
          "output_type": "stream",
          "text": [
            "split: 1 num_of_iter: 7435 residual: 568\n",
            "Finished 0 iterations.\n",
            "Finished 1000 iterations.\n",
            "Finished 2000 iterations.\n",
            "Finished 3000 iterations.\n",
            "Finished 4000 iterations.\n",
            "Finished 5000 iterations.\n",
            "Finished 6000 iterations.\n",
            "Finished 7000 iterations.\n",
            "\n",
            "SGD (Raw) AUC Score: 0.4921278054992499 Fold: 1\n",
            "split: 2 num_of_iter: 7435 residual: 569\n",
            "Finished 0 iterations.\n",
            "Finished 1000 iterations.\n",
            "Finished 2000 iterations.\n",
            "Finished 3000 iterations.\n",
            "Finished 4000 iterations.\n",
            "Finished 5000 iterations.\n",
            "Finished 6000 iterations.\n",
            "Finished 7000 iterations.\n",
            "\n",
            "SGD (Raw) AUC Score: 0.4955276040800727 Fold: 2\n",
            "split: 3 num_of_iter: 7435 residual: 569\n",
            "Finished 0 iterations.\n",
            "Finished 1000 iterations.\n",
            "Finished 2000 iterations.\n",
            "Finished 3000 iterations.\n",
            "Finished 4000 iterations.\n",
            "Finished 5000 iterations.\n",
            "Finished 6000 iterations.\n",
            "Finished 7000 iterations.\n",
            "\n",
            "SGD (Raw) AUC Score: 0.5004599929642581 Fold: 3\n",
            "split: 4 num_of_iter: 7435 residual: 569\n",
            "Finished 0 iterations.\n",
            "Finished 1000 iterations.\n",
            "Finished 2000 iterations.\n",
            "Finished 3000 iterations.\n",
            "Finished 4000 iterations.\n",
            "Finished 5000 iterations.\n",
            "Finished 6000 iterations.\n",
            "Finished 7000 iterations.\n",
            "\n",
            "SGD (Raw) AUC Score: 0.5107473509687105 Fold: 4\n",
            "split: 5 num_of_iter: 7435 residual: 570\n",
            "Finished 0 iterations.\n",
            "Finished 1000 iterations.\n",
            "Finished 2000 iterations.\n",
            "Finished 3000 iterations.\n",
            "Finished 4000 iterations.\n",
            "Finished 5000 iterations.\n",
            "Finished 6000 iterations.\n",
            "Finished 7000 iterations.\n",
            "\n",
            "SGD (Raw) AUC Score: 0.5082628495995621 Fold: 5\n",
            "split: 6 num_of_iter: 7435 residual: 570\n",
            "Finished 0 iterations.\n",
            "Finished 1000 iterations.\n",
            "Finished 2000 iterations.\n",
            "Finished 3000 iterations.\n",
            "Finished 4000 iterations.\n",
            "Finished 5000 iterations.\n",
            "Finished 6000 iterations.\n",
            "Finished 7000 iterations.\n",
            "\n",
            "SGD (Raw) AUC Score: 0.503744704599514 Fold: 6\n"
          ],
          "name": "stdout"
        }
      ]
    },
    {
      "metadata": {
        "id": "A9pb7n22XC5G",
        "colab_type": "text"
      },
      "cell_type": "markdown",
      "source": [
        "Looks like using 6-fold CV our AUC is stable around 0.5. Still... more like a baseline only :("
      ]
    },
    {
      "metadata": {
        "id": "fqybA1Sjon29",
        "colab_type": "text"
      },
      "cell_type": "markdown",
      "source": [
        "## Fine tuning for SGD model\n",
        "\n",
        "Referring to the [guide](https://scikit-learn.org/stable/modules/sgd.html#tips-on-practical-use) here for practical tuning."
      ]
    },
    {
      "metadata": {
        "id": "xOkydbXkorQD",
        "colab_type": "code",
        "outputId": "894c78d9-8b99-4573-aebc-2887b39b7e80",
        "colab": {
          "base_uri": "https://localhost:8080/",
          "height": 34
        }
      },
      "cell_type": "code",
      "source": [
        "# Check how many iterations are indeed needed\n",
        "max_iter = np.ceil(10**6 / len(X_train))\n",
        "max_iter"
      ],
      "execution_count": 0,
      "outputs": [
        {
          "output_type": "execute_result",
          "data": {
            "text/plain": [
              "1.0"
            ]
          },
          "metadata": {
            "tags": []
          },
          "execution_count": 73
        }
      ]
    },
    {
      "metadata": {
        "id": "hZFuyGkovEEv",
        "colab_type": "text"
      },
      "cell_type": "markdown",
      "source": [
        "And yes I want to use 1 iteration but clearly doing so will blow up the RAM and I don't want to start over again.\n",
        "\n",
        "The guide also suggests scaling features, but I doubt if we can do so for categorical features (citation needed). \n",
        "\n",
        "But we can try to search for the best alpha to see if it helps. (Note: alpha is to control the amount of regularization)"
      ]
    },
    {
      "metadata": {
        "id": "VczRwR04wTej",
        "colab_type": "code",
        "outputId": "2d013149-64c6-440b-f023-641f96393f3c",
        "colab": {
          "base_uri": "https://localhost:8080/",
          "height": 34
        }
      },
      "cell_type": "code",
      "source": [
        "# Since GridSearchCV doesn't have a partial_fit function I would have to do this myself\n",
        "from sklearn.model_selection import GridSearchCV, cross_val_score\n",
        "\n",
        "alphas = 10.0**-np.arange(1,7)\n",
        "alphas"
      ],
      "execution_count": 0,
      "outputs": [
        {
          "output_type": "execute_result",
          "data": {
            "text/plain": [
              "array([1.e-01, 1.e-02, 1.e-03, 1.e-04, 1.e-05, 1.e-06])"
            ]
          },
          "metadata": {
            "tags": []
          },
          "execution_count": 83
        }
      ]
    },
    {
      "metadata": {
        "id": "F0qIrkdC1ZK0",
        "colab_type": "code",
        "colab": {}
      },
      "cell_type": "code",
      "source": [
        "best_alpha = 0\n",
        "best_accuracy = -float(\"inf\")"
      ],
      "execution_count": 0,
      "outputs": []
    },
    {
      "metadata": {
        "id": "hQKqOC101ThJ",
        "colab_type": "code",
        "outputId": "07cc44ad-da08-4b6f-9c0e-53a6969d6612",
        "colab": {
          "base_uri": "https://localhost:8080/",
          "height": 722
        }
      },
      "cell_type": "code",
      "source": [
        "for a in alphas:\n",
        "  print(\"Testing with alpha =\",a)\n",
        "  clf = SGDClassifier(alpha = a)\n",
        "  \n",
        "  for i in range(num_of_iter):\n",
        "    if i != num_of_iter - 1:\n",
        "      subset = slice(batch_size * i, batch_size * (i + 1))\n",
        "    else:\n",
        "      subset = slice(batch_size * i, len(X_train))\n",
        "    X_sub = X_train[subset]\n",
        "    y_sub = y_train[subset]\n",
        "    if i % 2000 == 0:\n",
        "      print(\"Finished %s iterations.\" % i)\n",
        "    clf.partial_fit(X_sub, y_sub, classes=np.unique(y_train))\n",
        "    \n",
        "  print(\"\")\n",
        "  print(\"Evaluating the overall performance now.\")\n",
        "  acc_score = clf.score(X_test, y_test)\n",
        "  print(\"Accuracy of this model:\",acc_score)\n",
        "  if acc_score > best_accuracy:\n",
        "    best_accuracy = acc_score\n",
        "    best_alpha = a"
      ],
      "execution_count": 0,
      "outputs": [
        {
          "output_type": "stream",
          "text": [
            "Testing with alpha = 0.1\n",
            "Finished 0 iterations.\n",
            "Finished 2000 iterations.\n",
            "Finished 4000 iterations.\n",
            "\n",
            "Evaluating the overall performance now.\n",
            "Accuracy of this model: 0.49762711058425524\n",
            "Testing with alpha = 0.01\n",
            "Finished 0 iterations.\n",
            "Finished 2000 iterations.\n",
            "Finished 4000 iterations.\n",
            "\n",
            "Evaluating the overall performance now.\n",
            "Accuracy of this model: 0.5053941965089382\n",
            "Testing with alpha = 0.001\n",
            "Finished 0 iterations.\n",
            "Finished 2000 iterations.\n",
            "Finished 4000 iterations.\n",
            "\n",
            "Evaluating the overall performance now.\n",
            "Accuracy of this model: 0.5013369156513557\n",
            "Testing with alpha = 0.0001\n",
            "Finished 0 iterations.\n",
            "Finished 2000 iterations.\n",
            "Finished 4000 iterations.\n",
            "\n",
            "Evaluating the overall performance now.\n",
            "Accuracy of this model: 0.5058520629464452\n",
            "Testing with alpha = 1e-05\n",
            "Finished 0 iterations.\n",
            "Finished 2000 iterations.\n",
            "Finished 4000 iterations.\n",
            "\n",
            "Evaluating the overall performance now.\n",
            "Accuracy of this model: 0.5188931044906915\n",
            "Testing with alpha = 1e-06\n",
            "Finished 0 iterations.\n",
            "Finished 2000 iterations.\n",
            "Finished 4000 iterations.\n",
            "\n",
            "Evaluating the overall performance now.\n",
            "Accuracy of this model: 0.5031517378884477\n"
          ],
          "name": "stdout"
        }
      ]
    },
    {
      "metadata": {
        "id": "sRg3FaSlJNh_",
        "colab_type": "text"
      },
      "cell_type": "markdown",
      "source": [
        "Looks like when alpha = 1e-05 we got the best accuracy of 0.5188931044906915. (But still this is not good enough :()"
      ]
    },
    {
      "metadata": {
        "id": "7f5HADEY2Cjy",
        "colab_type": "text"
      },
      "cell_type": "markdown",
      "source": [
        "Another thing to consider is feature correlations. In EDA 1 we've shown that there are some features that are correlated. What if we drop them? Will it boost the performance?\n",
        "\n",
        "TODO: https://sklearn.org/modules/scaling_strategies.html\n",
        "\n",
        "(If using [Perceptron](https://sklearn.org/modules/generated/sklearn.linear_model.Perceptron.html#sklearn.linear_model.Perceptron):\n",
        "\n",
        "> Perceptron and SGDClassifier share the same underlying implementation. In fact, Perceptron() is equivalent to SGDClassifier(loss=”perceptron”, eta0=1, learning_rate=”constant”, penalty=None).)"
      ]
    },
    {
      "metadata": {
        "id": "Bv_uNeBSXYym",
        "colab_type": "text"
      },
      "cell_type": "markdown",
      "source": [
        "Code below manages to fit SGD using the columns we selected from EDA1. Again the accuracy is around 50% only. All features kept should have low correlation with each other."
      ]
    },
    {
      "metadata": {
        "id": "Z_fAsW3aRncj",
        "colab_type": "code",
        "colab": {}
      },
      "cell_type": "code",
      "source": [
        "# keep only the columns that we want\n",
        "train_cleaned = train[['ProductName','EngineVersion','AppVersion','AvSigVersion','IsBeta','RtpStateBitfield','AVProductStatesIdentifier','AVProductsInstalled','AVProductsEnabled','HasTpm','CountryIdentifier','CityIdentifier','OrganizationIdentifier','GeoNameIdentifier','LocaleEnglishNameIdentifier','Processor','OsVer','OsBuild','OsSuite','OsPlatformSubRelease','OsBuildLab','IsProtected','AutoSampleOptIn','SMode','IeVerIdentifier','SmartScreen','Firewall','UacLuaenable','Census_MDC2FormFactor','Census_DeviceFamily','Census_OEMNameIdentifier','Census_OEMModelIdentifier','Census_ProcessorCoreCount','Census_ProcessorModelIdentifier','Census_PrimaryDiskTotalCapacity','Census_PrimaryDiskTypeName','Census_SystemVolumeTotalCapacity','Census_HasOpticalDiskDrive','Census_TotalPhysicalRAM','Census_ChassisTypeName','Census_InternalPrimaryDiagonalDisplaySizeInInches','Census_InternalPrimaryDisplayResolutionHorizontal','Census_PowerPlatformRoleName','Census_InternalBatteryNumberOfCharges','Census_OSVersion','Census_OSBranch','Census_OSBuildRevision','Census_OSEdition','Census_OSInstallTypeName','Census_OSInstallLanguageIdentifier','Census_OSWUAutoUpdateOptionsName','Census_IsPortableOperatingSystem','Census_GenuineStateName','Census_ActivationChannel','Census_IsFlightsDisabled','Census_FlightRing','Census_FirmwareManufacturerIdentifier','Census_FirmwareVersionIdentifier','Census_IsSecureBootEnabled','Census_IsVirtualDevice','Census_IsTouchEnabled','Census_IsPenCapable','Census_IsAlwaysOnAlwaysConnectedCapable','Wdft_IsGamer','Wdft_RegionIdentifier']]\n",
        "test_cleaned = test[['ProductName','EngineVersion','AppVersion','AvSigVersion','IsBeta','RtpStateBitfield','AVProductStatesIdentifier','AVProductsInstalled','AVProductsEnabled','HasTpm','CountryIdentifier','CityIdentifier','OrganizationIdentifier','GeoNameIdentifier','LocaleEnglishNameIdentifier','Processor','OsVer','OsBuild','OsSuite','OsPlatformSubRelease','OsBuildLab','IsProtected','AutoSampleOptIn','SMode','IeVerIdentifier','SmartScreen','Firewall','UacLuaenable','Census_MDC2FormFactor','Census_DeviceFamily','Census_OEMNameIdentifier','Census_OEMModelIdentifier','Census_ProcessorCoreCount','Census_ProcessorModelIdentifier','Census_PrimaryDiskTotalCapacity','Census_PrimaryDiskTypeName','Census_SystemVolumeTotalCapacity','Census_HasOpticalDiskDrive','Census_TotalPhysicalRAM','Census_ChassisTypeName','Census_InternalPrimaryDiagonalDisplaySizeInInches','Census_InternalPrimaryDisplayResolutionHorizontal','Census_PowerPlatformRoleName','Census_InternalBatteryNumberOfCharges','Census_OSVersion','Census_OSBranch','Census_OSBuildRevision','Census_OSEdition','Census_OSInstallTypeName','Census_OSInstallLanguageIdentifier','Census_OSWUAutoUpdateOptionsName','Census_IsPortableOperatingSystem','Census_GenuineStateName','Census_ActivationChannel','Census_IsFlightsDisabled','Census_FlightRing','Census_FirmwareManufacturerIdentifier','Census_FirmwareVersionIdentifier','Census_IsSecureBootEnabled','Census_IsVirtualDevice','Census_IsTouchEnabled','Census_IsPenCapable','Census_IsAlwaysOnAlwaysConnectedCapable','Wdft_IsGamer','Wdft_RegionIdentifier']]"
      ],
      "execution_count": 0,
      "outputs": []
    },
    {
      "metadata": {
        "id": "wSYPf6bMSGlF",
        "colab_type": "code",
        "outputId": "3b09af32-1d70-4ba2-ca33-3d33809bc54e",
        "colab": {
          "base_uri": "https://localhost:8080/",
          "height": 34
        }
      },
      "cell_type": "code",
      "source": [
        "train_cleaned.shape"
      ],
      "execution_count": 0,
      "outputs": [
        {
          "output_type": "execute_result",
          "data": {
            "text/plain": [
              "(8921483, 65)"
            ]
          },
          "metadata": {
            "tags": []
          },
          "execution_count": 10
        }
      ]
    },
    {
      "metadata": {
        "colab_type": "code",
        "outputId": "53c9ace7-a106-42c4-daef-8ad2419c2650",
        "id": "MSKbsbcDSc4n",
        "colab": {
          "base_uri": "https://localhost:8080/",
          "height": 34
        }
      },
      "cell_type": "code",
      "source": [
        "y_target = np.array(train['HasDetections'])\n",
        "train_ids = train_cleaned.index\n",
        "test_ids  = test_cleaned.index\n",
        "\n",
        "del train['HasDetections'], train['MachineIdentifier'], test['MachineIdentifier']\n",
        "gc.collect()"
      ],
      "execution_count": 0,
      "outputs": [
        {
          "output_type": "execute_result",
          "data": {
            "text/plain": [
              "7"
            ]
          },
          "metadata": {
            "tags": []
          },
          "execution_count": 11
        }
      ]
    },
    {
      "metadata": {
        "colab_type": "code",
        "id": "EptZ__k-SoJJ",
        "colab": {}
      },
      "cell_type": "code",
      "source": [
        "from sklearn.model_selection import train_test_split\n",
        "\n",
        "X_train, X_test, y_train, y_test = train_test_split(train_cleaned, y_target, test_size=0.33, random_state=42)"
      ],
      "execution_count": 0,
      "outputs": []
    },
    {
      "metadata": {
        "id": "twrLx6pUS2qU",
        "colab_type": "code",
        "outputId": "5414138a-44d3-4c2a-d77e-2b30cc8a0f22",
        "colab": {
          "base_uri": "https://localhost:8080/",
          "height": 34
        }
      },
      "cell_type": "code",
      "source": [
        "X_train.shape"
      ],
      "execution_count": 0,
      "outputs": [
        {
          "output_type": "execute_result",
          "data": {
            "text/plain": [
              "(5977393, 65)"
            ]
          },
          "metadata": {
            "tags": []
          },
          "execution_count": 15
        }
      ]
    },
    {
      "metadata": {
        "colab_type": "text",
        "id": "kkwJqrn6SoJO"
      },
      "cell_type": "markdown",
      "source": [
        "Trying out SGD again..."
      ]
    },
    {
      "metadata": {
        "colab_type": "code",
        "id": "MJS_5kGsSoJa",
        "colab": {}
      },
      "cell_type": "code",
      "source": [
        "# Trying SGD Classifier below\n",
        "from sklearn.linear_model import SGDClassifier\n",
        "import random\n",
        "\n",
        "clf = SGDClassifier()\n",
        "\n",
        "batch_size = 1000\n",
        "residual = 0\n",
        "num_of_iter = int(len(X_train) / batch_size)\n",
        "residual = len(X_train) % batch_size\n",
        "if num_of_iter * batch_size < len(X_train):\n",
        "  num_of_iter += 1"
      ],
      "execution_count": 0,
      "outputs": []
    },
    {
      "metadata": {
        "colab_type": "code",
        "outputId": "3243222e-f6d4-4a0b-8ed5-2f840c5813a1",
        "id": "waddCQdUSoJc",
        "colab": {
          "base_uri": "https://localhost:8080/",
          "height": 34
        }
      },
      "cell_type": "code",
      "source": [
        "print(\"num_of_iter:\",num_of_iter,\"residual:\",residual)"
      ],
      "execution_count": 0,
      "outputs": [
        {
          "output_type": "stream",
          "text": [
            "num_of_iter: 5978 residual: 393\n"
          ],
          "name": "stdout"
        }
      ]
    },
    {
      "metadata": {
        "colab_type": "code",
        "outputId": "0a5b3c5a-04da-4c53-d378-58cd3fd51f00",
        "id": "ox6UGp_kSoJh",
        "colab": {
          "base_uri": "https://localhost:8080/",
          "height": 119
        }
      },
      "cell_type": "code",
      "source": [
        "for i in range(num_of_iter):\n",
        "  if i != num_of_iter - 1:\n",
        "    subset = slice(batch_size * i, batch_size * (i + 1))\n",
        "    #slice_indexes = [i for i in range(batch_size * i,batch_size * (i + 1))]\n",
        "  else:\n",
        "    subset = slice(batch_size * i, len(X_train))\n",
        "    #slice_indexes = [i for i in range(batch_size * i, len(X_train))]\n",
        "  #random.shuffle(slice_indexes)\n",
        "  X_sub = X_train[subset]\n",
        "  y_sub = y_train[subset]\n",
        "#   X_sub = X_train.loc[slice_indexes]\n",
        "#   y_sub = y_train[slice_indexes]\n",
        "  if i % batch_size == 0:\n",
        "    print(\"Finished %s iterations.\" % i)\n",
        "  clf.partial_fit(X_sub, y_sub, classes=np.unique(y_train))"
      ],
      "execution_count": 0,
      "outputs": [
        {
          "output_type": "stream",
          "text": [
            "Finished 0 iterations.\n",
            "Finished 1000 iterations.\n",
            "Finished 2000 iterations.\n",
            "Finished 3000 iterations.\n",
            "Finished 4000 iterations.\n",
            "Finished 5000 iterations.\n"
          ],
          "name": "stdout"
        }
      ]
    },
    {
      "metadata": {
        "colab_type": "code",
        "outputId": "7a0955a2-73ba-4686-9aa1-ed9649df9f2a",
        "id": "riTs5ySRSoJs",
        "colab": {
          "base_uri": "https://localhost:8080/",
          "height": 34
        }
      },
      "cell_type": "code",
      "source": [
        "# predict on unseen data\n",
        "# a small test below\n",
        "y_pred = clf.predict(X_test[:10])\n",
        "y_pred"
      ],
      "execution_count": 0,
      "outputs": [
        {
          "output_type": "execute_result",
          "data": {
            "text/plain": [
              "array([0, 0, 0, 1, 1, 0, 0, 0, 0, 1], dtype=int8)"
            ]
          },
          "metadata": {
            "tags": []
          },
          "execution_count": 18
        }
      ]
    },
    {
      "metadata": {
        "colab_type": "code",
        "outputId": "eec71d55-e51c-4bdc-a048-e77f5e647dfe",
        "id": "bFzt0Qz6SoJy",
        "colab": {
          "base_uri": "https://localhost:8080/",
          "height": 34
        }
      },
      "cell_type": "code",
      "source": [
        "y_test[:10]"
      ],
      "execution_count": 0,
      "outputs": [
        {
          "output_type": "execute_result",
          "data": {
            "text/plain": [
              "array([1, 0, 0, 1, 1, 1, 0, 1, 0, 1], dtype=int8)"
            ]
          },
          "metadata": {
            "tags": []
          },
          "execution_count": 19
        }
      ]
    },
    {
      "metadata": {
        "colab_type": "code",
        "outputId": "01859eb7-dca4-4ad0-8976-daf44f5308b2",
        "id": "ENyHW5WLSoJ-",
        "colab": {
          "base_uri": "https://localhost:8080/",
          "height": 34
        }
      },
      "cell_type": "code",
      "source": [
        "# Getting an accuracy measurement\n",
        "clf.score(X_test, y_test)"
      ],
      "execution_count": 0,
      "outputs": [
        {
          "output_type": "execute_result",
          "data": {
            "text/plain": [
              "0.4949661864956574"
            ]
          },
          "metadata": {
            "tags": []
          },
          "execution_count": 20
        }
      ]
    },
    {
      "metadata": {
        "colab_type": "code",
        "outputId": "ab64167b-5a6b-4b08-d1bd-65ef21c142ee",
        "id": "bVrA5Gp2SoKE",
        "colab": {
          "base_uri": "https://localhost:8080/",
          "height": 170
        }
      },
      "cell_type": "code",
      "source": [
        "# Confusion matrix\n",
        "from sklearn.metrics import classification_report\n",
        "\n",
        "y_pred = clf.predict(X_test)\n",
        "print(classification_report(y_test, y_pred))"
      ],
      "execution_count": 0,
      "outputs": [
        {
          "output_type": "stream",
          "text": [
            "              precision    recall  f1-score   support\n",
            "\n",
            "           0       0.50      0.58      0.53   1473693\n",
            "           1       0.49      0.41      0.45   1470397\n",
            "\n",
            "   micro avg       0.49      0.49      0.49   2944090\n",
            "   macro avg       0.49      0.49      0.49   2944090\n",
            "weighted avg       0.49      0.49      0.49   2944090\n",
            "\n"
          ],
          "name": "stdout"
        }
      ]
    },
    {
      "metadata": {
        "id": "DUjoYHqGWOOb",
        "colab_type": "text"
      },
      "cell_type": "markdown",
      "source": [
        "Looks like fewer columns don't help with the situation here. Trying out sparse matrix below.\n",
        "\n",
        "## Sparse matrix SGD Classifier"
      ]
    },
    {
      "metadata": {
        "id": "iV0oDjR-MmN8",
        "colab_type": "code",
        "colab": {}
      },
      "cell_type": "code",
      "source": [
        "#Fit OneHotEncoder\n",
        "ohe = OneHotEncoder(categories='auto', sparse=True, dtype='uint8').fit(train)\n",
        "\n",
        "#Transform data using small groups to reduce memory usage\n",
        "m = 100000\n",
        "train2 = vstack([ohe.transform(train[i*m:(i+1)*m]) for i in range(train.shape[0] // m + 1)])\n",
        "test  = vstack([ohe.transform(test[i*m:(i+1)*m])  for i in range(test.shape[0] // m +  1)])"
      ],
      "execution_count": 0,
      "outputs": []
    },
    {
      "metadata": {
        "id": "7669XdfBxsF2",
        "colab_type": "code",
        "outputId": "d7ce4ca6-4632-4de6-d7e2-ba97ed358d15",
        "colab": {
          "base_uri": "https://localhost:8080/",
          "height": 34
        }
      },
      "cell_type": "code",
      "source": [
        "save_npz('/content/gdrive/My Drive/Coding experiment/MARTHA/data/train.npz', train2, compressed=True)\n",
        "save_npz('/content/gdrive/My Drive/Coding experiment/MARTHA/data/test.npz',  test,  compressed=True)\n",
        "\n",
        "del ohe, train, train2, test\n",
        "gc.collect()"
      ],
      "execution_count": 0,
      "outputs": [
        {
          "output_type": "execute_result",
          "data": {
            "text/plain": [
              "1148"
            ]
          },
          "metadata": {
            "tags": []
          },
          "execution_count": 13
        }
      ]
    },
    {
      "metadata": {
        "id": "U5Xbu8I_vH4P",
        "colab_type": "code",
        "colab": {}
      },
      "cell_type": "code",
      "source": [
        "train = load_npz('/content/gdrive/My Drive/Coding experiment/MARTHA/data/train.npz')"
      ],
      "execution_count": 0,
      "outputs": []
    },
    {
      "metadata": {
        "id": "p7DZEkNezSDp",
        "colab_type": "code",
        "outputId": "b6136496-ce85-4114-9392-01d111356f07",
        "colab": {
          "base_uri": "https://localhost:8080/",
          "height": 51
        }
      },
      "cell_type": "code",
      "source": [
        "# take a look at the sparse matrix\n",
        "train"
      ],
      "execution_count": 0,
      "outputs": [
        {
          "output_type": "execute_result",
          "data": {
            "text/plain": [
              "<8921483x7861 sparse matrix of type '<class 'numpy.uint8'>'\n",
              "\twith 722640123 stored elements in Compressed Sparse Row format>"
            ]
          },
          "metadata": {
            "tags": []
          },
          "execution_count": 17
        }
      ]
    },
    {
      "metadata": {
        "id": "f-xT55ZG0nyX",
        "colab_type": "code",
        "outputId": "0e2d4d65-c023-4924-9f2f-b6aae09a2a4b",
        "colab": {
          "base_uri": "https://localhost:8080/",
          "height": 102
        }
      },
      "cell_type": "code",
      "source": [
        "skf = StratifiedKFold(n_splits=5, shuffle=True, random_state=42)\n",
        "skf.get_n_splits(train_ids, y_target_orig)\n",
        "lgb_test_result_1  = np.zeros(test_ids.shape[0])\n",
        "oof_1= np.zeros(train_ids.shape[0])\n",
        "m = 100000\n",
        "\n",
        "counter = 0\n",
        "\n",
        "print('\\nSGD(Sparse)\\n')\n",
        "\n",
        "for train_index, test_index in skf.split(train_ids, y_target_orig):\n",
        "    \n",
        "    print('Fold {}\\n'.format(counter + 1))\n",
        "    \n",
        "    train = load_npz('/content/gdrive/My Drive/Coding experiment/MARTHA/data/train.npz')\n",
        "    X_fit = vstack([train[train_index[i*m:(i+1)*m]] for i in range(train_index.shape[0] // m + 1)])\n",
        "    X_val = vstack([train[test_index[i*m:(i+1)*m]]  for i in range(test_index.shape[0] //  m + 1)])\n",
        "    X_fit, X_val = csr_matrix(X_fit, dtype='float32'), csr_matrix(X_val, dtype='float32')\n",
        "    y_fit, y_val = y_target_orig[train_index], y_target_orig[test_index]\n",
        "    \n",
        "    batch_size = 1000\n",
        "    residual = 0\n",
        "    num_of_iter = int(len(X_fit) / batch_size)\n",
        "    residual = len(X_fit) % batch_size\n",
        "    if num_of_iter * batch_size < len(X_fit):\n",
        "      num_of_iter += 1\n",
        "      \n",
        "    print(\"split:\",index,\"num_of_iter:\",num_of_iter,\"residual:\",residual)\n",
        "    \n",
        "    for i in range(num_of_iter):\n",
        "      if i != num_of_iter - 1:\n",
        "        subset = slice(batch_size * i, batch_size * (i + 1))\n",
        "      else:\n",
        "        subset = slice(batch_size * i, len(X_fit))\n",
        "      X_sub = X_fit[subset]\n",
        "      y_sub = y_fit[subset]\n",
        "      if i % batch_size == 0:\n",
        "        print(\"Finished %s iterations.\" % i)\n",
        "      clf.partial_fit(X_sub, y_sub, classes=np.unique(y_target_orig))\n",
        "      \n",
        "    y_pred = clf.predict(X_val)\n",
        "    print('\\nSGD (Sparse) AUC Score: {}'.format(roc_auc_score(y_val, y_pred)),'Fold:',index)\n",
        "\n",
        "    del X_fit, X_val, y_fit, y_val\n",
        "    gc.collect()\n",
        "    index += 1"
      ],
      "execution_count": 0,
      "outputs": [
        {
          "output_type": "stream",
          "text": [
            "\n",
            "SGD(Sparse)\n",
            "\n",
            "Fold 1\n",
            "\n"
          ],
          "name": "stdout"
        }
      ]
    },
    {
      "metadata": {
        "id": "cUtG2dWk0oFW",
        "colab_type": "code",
        "colab": {}
      },
      "cell_type": "code",
      "source": [
        ""
      ],
      "execution_count": 0,
      "outputs": []
    },
    {
      "metadata": {
        "id": "dY2_PH9HM0_Z",
        "colab_type": "code",
        "colab": {}
      },
      "cell_type": "code",
      "source": [
        "from sklearn.model_selection import train_test_split\n",
        "\n",
        "X_train, X_test, y_train, y_test = train_test_split(train_ids, y_target, test_size=0.33, random_state=42)"
      ],
      "execution_count": 0,
      "outputs": []
    },
    {
      "metadata": {
        "colab_type": "code",
        "id": "t-S9glpWNKUY",
        "colab": {}
      },
      "cell_type": "code",
      "source": [
        "# Trying SGD Classifier below\n",
        "from sklearn.linear_model import SGDClassifier\n",
        "import random\n",
        "\n",
        "clf = SGDClassifier(alpha=1e-5)\n",
        "\n",
        "batch_size = 1000\n",
        "residual = 0\n",
        "num_of_iter = int(len(X_train) / batch_size)\n",
        "residual = len(X_train) % batch_size\n",
        "if num_of_iter * batch_size < len(X_train):\n",
        "  num_of_iter += 1"
      ],
      "execution_count": 0,
      "outputs": []
    },
    {
      "metadata": {
        "colab_type": "code",
        "id": "fnhFsQeDNKUd",
        "outputId": "f72a13e9-f995-4b9c-efbc-0254862b2dce",
        "colab": {
          "base_uri": "https://localhost:8080/",
          "height": 34
        }
      },
      "cell_type": "code",
      "source": [
        "print(\"num_of_iter:\",num_of_iter,\"residual:\",residual)"
      ],
      "execution_count": 0,
      "outputs": [
        {
          "output_type": "stream",
          "text": [
            "num_of_iter: 5978 residual: 393\n"
          ],
          "name": "stdout"
        }
      ]
    },
    {
      "metadata": {
        "colab_type": "code",
        "id": "741u3UvINKUi",
        "outputId": "0846ee43-1927-4256-fd12-3786b33eef3f",
        "colab": {
          "base_uri": "https://localhost:8080/",
          "height": 119
        }
      },
      "cell_type": "code",
      "source": [
        "for i in range(num_of_iter):\n",
        "  if i != num_of_iter - 1:\n",
        "    subset = slice(batch_size * i, batch_size * (i + 1))\n",
        "  else:\n",
        "    subset = slice(batch_size * i, len(X_train))\n",
        "  X_sub = vstack(train2[train_ids[subset]])\n",
        "  X_sub = csr_matrix(X_sub, dtype='float32')\n",
        "  y_sub = y_train[subset]\n",
        "  if i % batch_size == 0:\n",
        "    print(\"Finished %s iterations.\" % i)\n",
        "  clf.partial_fit(X_sub, y_sub, classes=np.unique(y_train))"
      ],
      "execution_count": 0,
      "outputs": [
        {
          "output_type": "stream",
          "text": [
            "Finished 0 iterations.\n",
            "Finished 1000 iterations.\n",
            "Finished 2000 iterations.\n",
            "Finished 3000 iterations.\n",
            "Finished 4000 iterations.\n",
            "Finished 5000 iterations.\n"
          ],
          "name": "stdout"
        }
      ]
    },
    {
      "metadata": {
        "id": "sMZEIIrYx4QE",
        "colab_type": "code",
        "outputId": "a43cba30-839d-43e8-b17a-8417e1eed3fb",
        "colab": {
          "base_uri": "https://localhost:8080/",
          "height": 34
        }
      },
      "cell_type": "code",
      "source": [
        "# Persist model\n",
        "from joblib import dump, load\n",
        "\n",
        "dump(clf, '/content/gdrive/My Drive/Coding experiment/MARTHA/data/MARTHA_SGD_sparse.joblib')"
      ],
      "execution_count": 0,
      "outputs": [
        {
          "output_type": "execute_result",
          "data": {
            "text/plain": [
              "['/content/gdrive/My Drive/Coding experiment/MARTHA/data/MARTHA_SGD_sparse.joblib']"
            ]
          },
          "metadata": {
            "tags": []
          },
          "execution_count": 12
        }
      ]
    },
    {
      "metadata": {
        "id": "mVkRERAQvVbj",
        "colab_type": "code",
        "outputId": "b0e9602a-c446-45d3-c212-45743b2510ca",
        "colab": {
          "base_uri": "https://localhost:8080/",
          "height": 119
        }
      },
      "cell_type": "code",
      "source": [
        "# Load the saved model\n",
        "from joblib import dump, load\n",
        "clf = load('/content/gdrive/My Drive/Coding experiment/MARTHA/data/MARTHA_SGD_sparse.joblib')\n",
        "clf"
      ],
      "execution_count": 0,
      "outputs": [
        {
          "output_type": "execute_result",
          "data": {
            "text/plain": [
              "SGDClassifier(alpha=1e-05, average=False, class_weight=None,\n",
              "       early_stopping=False, epsilon=0.1, eta0=0.0, fit_intercept=True,\n",
              "       l1_ratio=0.15, learning_rate='optimal', loss='hinge', max_iter=None,\n",
              "       n_iter=None, n_iter_no_change=5, n_jobs=None, penalty='l2',\n",
              "       power_t=0.5, random_state=None, shuffle=True, tol=None,\n",
              "       validation_fraction=0.1, verbose=0, warm_start=False)"
            ]
          },
          "metadata": {
            "tags": []
          },
          "execution_count": 21
        }
      ]
    },
    {
      "metadata": {
        "id": "o7OoKEOff9hU",
        "colab_type": "text"
      },
      "cell_type": "markdown",
      "source": [
        "Looks like the testing set vstack would cause a timeout on Google Colab. Unable to continue below."
      ]
    },
    {
      "metadata": {
        "id": "PKqFCbVZ0Axg",
        "colab_type": "code",
        "colab": {}
      },
      "cell_type": "code",
      "source": [
        "vstack(train[train_ids[X_test]])"
      ],
      "execution_count": 0,
      "outputs": []
    },
    {
      "metadata": {
        "colab_type": "code",
        "id": "s-SvgQwdPAp9",
        "colab": {}
      },
      "cell_type": "code",
      "source": [
        "# Getting an accuracy measurement\n",
        "X_test_sparse = csr_matrix(vstack(train[train_ids[X_test]]), dtype='float32')"
      ],
      "execution_count": 0,
      "outputs": []
    },
    {
      "metadata": {
        "id": "GbQnOJz6sCwb",
        "colab_type": "code",
        "colab": {}
      },
      "cell_type": "code",
      "source": [
        "clf.score(X_test_sparse, y_test)"
      ],
      "execution_count": 0,
      "outputs": []
    },
    {
      "metadata": {
        "colab_type": "code",
        "id": "oyr6Imm2PAqF",
        "colab": {}
      },
      "cell_type": "code",
      "source": [
        "# Confusion matrix\n",
        "from sklearn.metrics import classification_report\n",
        "\n",
        "y_pred = clf.predict(X_test_sparse)\n",
        "print(classification_report(y_test, y_pred))"
      ],
      "execution_count": 0,
      "outputs": []
    },
    {
      "metadata": {
        "colab_type": "code",
        "id": "CZVgcwQDNQwk",
        "colab": {}
      },
      "cell_type": "code",
      "source": [
        "# ROC?\n",
        "print('SGD (Sparse) Testing set AUC Score: {}'.format(roc_auc_score(y_test, y_pred)))"
      ],
      "execution_count": 0,
      "outputs": []
    },
    {
      "metadata": {
        "id": "9UzryhFvs67D",
        "colab_type": "text"
      },
      "cell_type": "markdown",
      "source": [
        "## Generating predictions\n",
        "\n",
        "Using the compact model. Note that feature transformation into numerical encoding is required."
      ]
    },
    {
      "metadata": {
        "id": "qH_AAKaLtCCV",
        "colab_type": "code",
        "colab": {
          "base_uri": "https://localhost:8080/",
          "height": 34
        },
        "outputId": "0ef09aba-0c88-4962-d6e3-2da034dfe7c3"
      },
      "cell_type": "code",
      "source": [
        "del train\n",
        "gc.collect()"
      ],
      "execution_count": 8,
      "outputs": [
        {
          "output_type": "execute_result",
          "data": {
            "text/plain": [
              "574"
            ]
          },
          "metadata": {
            "tags": []
          },
          "execution_count": 8
        }
      ]
    },
    {
      "metadata": {
        "id": "8hKoWVEGoeqY",
        "colab_type": "code",
        "colab": {}
      },
      "cell_type": "code",
      "source": [
        "submission = pd.read_csv('/content/gdrive/My Drive/Coding experiment/MARTHA/data/sample_submission.csv')\n",
        "svm_test_result  = np.zeros(submission['MachineIdentifier'].shape[0])"
      ],
      "execution_count": 0,
      "outputs": []
    },
    {
      "metadata": {
        "id": "rb98punvj8G-",
        "colab_type": "code",
        "outputId": "869e9a9d-5f20-4482-b6be-88edaa0fa9c5",
        "colab": {
          "base_uri": "https://localhost:8080/",
          "height": 119
        }
      },
      "cell_type": "code",
      "source": [
        "from joblib import dump, load\n",
        "model_path = '/content/gdrive/My Drive/Coding experiment/MARTHA/data/MARTHA_SGDClassifier.joblib'\n",
        "clf = load(model_path)\n",
        "clf"
      ],
      "execution_count": 10,
      "outputs": [
        {
          "output_type": "execute_result",
          "data": {
            "text/plain": [
              "SGDClassifier(alpha=0.0001, average=False, class_weight=None,\n",
              "       early_stopping=False, epsilon=0.1, eta0=0.0, fit_intercept=True,\n",
              "       l1_ratio=0.15, learning_rate='optimal', loss='hinge', max_iter=None,\n",
              "       n_iter=None, n_iter_no_change=5, n_jobs=None, penalty='l2',\n",
              "       power_t=0.5, random_state=None, shuffle=True, tol=None,\n",
              "       validation_fraction=0.1, verbose=0, warm_start=False)"
            ]
          },
          "metadata": {
            "tags": []
          },
          "execution_count": 10
        }
      ]
    },
    {
      "metadata": {
        "colab_type": "code",
        "id": "5X4tREaTD8Il",
        "colab": {}
      },
      "cell_type": "code",
      "source": [
        "batch_size = 500\n",
        "residual = 0\n",
        "num_of_iter = int(len(test) / batch_size)\n",
        "residual = len(test) % batch_size\n",
        "if num_of_iter * batch_size < len(test):\n",
        "  num_of_iter += 1"
      ],
      "execution_count": 0,
      "outputs": []
    },
    {
      "metadata": {
        "colab_type": "code",
        "outputId": "505742b1-a582-432f-b7d1-7d6f38a2b36c",
        "id": "fiirsBleD8Io",
        "colab": {
          "base_uri": "https://localhost:8080/",
          "height": 34
        }
      },
      "cell_type": "code",
      "source": [
        "print(\"num_of_iter:\",num_of_iter,\"residual:\",residual)"
      ],
      "execution_count": 13,
      "outputs": [
        {
          "output_type": "stream",
          "text": [
            "num_of_iter: 15707 residual: 253\n"
          ],
          "name": "stdout"
        }
      ]
    },
    {
      "metadata": {
        "colab_type": "code",
        "outputId": "d1569561-151d-43ca-8e95-b08bd2774ac5",
        "id": "eqZzDPU7D8Is",
        "colab": {
          "base_uri": "https://localhost:8080/",
          "height": 537
        }
      },
      "cell_type": "code",
      "source": [
        "print(\"\\nSVM - Prediction\\n\")\n",
        "for i in range(num_of_iter):\n",
        "  if i != num_of_iter - 1:\n",
        "    subset = slice(batch_size * i, batch_size * (i + 1))\n",
        "  else:\n",
        "    subset = slice(batch_size * i, len(X_train))\n",
        "  X_sub = test[subset]\n",
        "  if i % batch_size == 0:\n",
        "    print(\"Finished %s iterations.\" % i)\n",
        "  svm_test_result[subset] = clf.predict_proba(test)\n",
        "  \n",
        "del clf\n",
        "gc.collect()"
      ],
      "execution_count": 14,
      "outputs": [
        {
          "output_type": "stream",
          "text": [
            "\n",
            "SVM - Prediction\n",
            "\n",
            "Finished 0 iterations.\n"
          ],
          "name": "stdout"
        },
        {
          "output_type": "error",
          "ename": "AttributeError",
          "evalue": "ignored",
          "traceback": [
            "\u001b[0;31m---------------------------------------------------------------------------\u001b[0m",
            "\u001b[0;31mAttributeError\u001b[0m                            Traceback (most recent call last)",
            "\u001b[0;32m<ipython-input-14-15c29d577a96>\u001b[0m in \u001b[0;36m<module>\u001b[0;34m()\u001b[0m\n\u001b[1;32m      8\u001b[0m   \u001b[0;32mif\u001b[0m \u001b[0mi\u001b[0m \u001b[0;34m%\u001b[0m \u001b[0mbatch_size\u001b[0m \u001b[0;34m==\u001b[0m \u001b[0;36m0\u001b[0m\u001b[0;34m:\u001b[0m\u001b[0;34m\u001b[0m\u001b[0;34m\u001b[0m\u001b[0m\n\u001b[1;32m      9\u001b[0m     \u001b[0mprint\u001b[0m\u001b[0;34m(\u001b[0m\u001b[0;34m\"Finished %s iterations.\"\u001b[0m \u001b[0;34m%\u001b[0m \u001b[0mi\u001b[0m\u001b[0;34m)\u001b[0m\u001b[0;34m\u001b[0m\u001b[0;34m\u001b[0m\u001b[0m\n\u001b[0;32m---> 10\u001b[0;31m   \u001b[0msvm_test_result\u001b[0m\u001b[0;34m[\u001b[0m\u001b[0msubset\u001b[0m\u001b[0;34m]\u001b[0m \u001b[0;34m=\u001b[0m \u001b[0mclf\u001b[0m\u001b[0;34m.\u001b[0m\u001b[0mpredict_proba\u001b[0m\u001b[0;34m(\u001b[0m\u001b[0mtest\u001b[0m\u001b[0;34m)\u001b[0m\u001b[0;34m\u001b[0m\u001b[0;34m\u001b[0m\u001b[0m\n\u001b[0m\u001b[1;32m     11\u001b[0m \u001b[0;34m\u001b[0m\u001b[0m\n\u001b[1;32m     12\u001b[0m \u001b[0;32mdel\u001b[0m \u001b[0mclf\u001b[0m\u001b[0;34m\u001b[0m\u001b[0;34m\u001b[0m\u001b[0m\n",
            "\u001b[0;32m/usr/local/lib/python3.6/dist-packages/sklearn/linear_model/stochastic_gradient.py\u001b[0m in \u001b[0;36mpredict_proba\u001b[0;34m(self)\u001b[0m\n\u001b[1;32m   1035\u001b[0m         \u001b[0mhttp\u001b[0m\u001b[0;34m:\u001b[0m\u001b[0;34m//\u001b[0m\u001b[0mjmlr\u001b[0m\u001b[0;34m.\u001b[0m\u001b[0mcsail\u001b[0m\u001b[0;34m.\u001b[0m\u001b[0mmit\u001b[0m\u001b[0;34m.\u001b[0m\u001b[0medu\u001b[0m\u001b[0;34m/\u001b[0m\u001b[0mpapers\u001b[0m\u001b[0;34m/\u001b[0m\u001b[0mvolume2\u001b[0m\u001b[0;34m/\u001b[0m\u001b[0mzhang02c\u001b[0m\u001b[0;34m/\u001b[0m\u001b[0mzhang02c\u001b[0m\u001b[0;34m.\u001b[0m\u001b[0mpdf\u001b[0m\u001b[0;34m\u001b[0m\u001b[0;34m\u001b[0m\u001b[0m\n\u001b[1;32m   1036\u001b[0m         \"\"\"\n\u001b[0;32m-> 1037\u001b[0;31m         \u001b[0mself\u001b[0m\u001b[0;34m.\u001b[0m\u001b[0m_check_proba\u001b[0m\u001b[0;34m(\u001b[0m\u001b[0;34m)\u001b[0m\u001b[0;34m\u001b[0m\u001b[0;34m\u001b[0m\u001b[0m\n\u001b[0m\u001b[1;32m   1038\u001b[0m         \u001b[0;32mreturn\u001b[0m \u001b[0mself\u001b[0m\u001b[0;34m.\u001b[0m\u001b[0m_predict_proba\u001b[0m\u001b[0;34m\u001b[0m\u001b[0;34m\u001b[0m\u001b[0m\n\u001b[1;32m   1039\u001b[0m \u001b[0;34m\u001b[0m\u001b[0m\n",
            "\u001b[0;32m/usr/local/lib/python3.6/dist-packages/sklearn/linear_model/stochastic_gradient.py\u001b[0m in \u001b[0;36m_check_proba\u001b[0;34m(self)\u001b[0m\n\u001b[1;32m    997\u001b[0m         \u001b[0;32mif\u001b[0m \u001b[0mself\u001b[0m\u001b[0;34m.\u001b[0m\u001b[0mloss\u001b[0m \u001b[0;32mnot\u001b[0m \u001b[0;32min\u001b[0m \u001b[0;34m(\u001b[0m\u001b[0;34m\"log\"\u001b[0m\u001b[0;34m,\u001b[0m \u001b[0;34m\"modified_huber\"\u001b[0m\u001b[0;34m)\u001b[0m\u001b[0;34m:\u001b[0m\u001b[0;34m\u001b[0m\u001b[0;34m\u001b[0m\u001b[0m\n\u001b[1;32m    998\u001b[0m             raise AttributeError(\"probability estimates are not available for\"\n\u001b[0;32m--> 999\u001b[0;31m                                  \" loss=%r\" % self.loss)\n\u001b[0m\u001b[1;32m   1000\u001b[0m \u001b[0;34m\u001b[0m\u001b[0m\n\u001b[1;32m   1001\u001b[0m     \u001b[0;34m@\u001b[0m\u001b[0mproperty\u001b[0m\u001b[0;34m\u001b[0m\u001b[0;34m\u001b[0m\u001b[0m\n",
            "\u001b[0;31mAttributeError\u001b[0m: probability estimates are not available for loss='hinge'"
          ]
        }
      ]
    },
    {
      "metadata": {
        "id": "kZAJH4OraERO",
        "colab_type": "text"
      },
      "cell_type": "markdown",
      "source": [
        "Looks like the SGD model (using hinge loss) is not able to generate predicition probability. So no test result is available."
      ]
    }
  ]
}